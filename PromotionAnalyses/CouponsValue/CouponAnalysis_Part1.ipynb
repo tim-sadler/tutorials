{
  "nbformat": 4,
  "nbformat_minor": 0,
  "metadata": {
    "colab": {
      "provenance": [],
      "authorship_tag": "ABX9TyNHXCgbd+8qZPqRw9tc7HU0",
      "include_colab_link": true
    },
    "kernelspec": {
      "name": "python3",
      "display_name": "Python 3"
    },
    "language_info": {
      "name": "python"
    }
  },
  "cells": [
    {
      "cell_type": "markdown",
      "metadata": {
        "id": "view-in-github",
        "colab_type": "text"
      },
      "source": [
        "<a href=\"https://colab.research.google.com/github/tim-sadler/tutorials/blob/main/PromotionAnalyses/CouponsValue/CouponAnalysis_Part1.ipynb\" target=\"_parent\"><img src=\"https://colab.research.google.com/assets/colab-badge.svg\" alt=\"Open In Colab\"/></a>"
      ]
    },
    {
      "cell_type": "code",
      "source": [
        "!pip install matplotlib==3.1.1\n",
        "import pandas as pd\n",
        "import numpy as np\n",
        "import matplotlib.pyplot as plt"
      ],
      "metadata": {
        "id": "sO33wlGjqfAT",
        "colab": {
          "base_uri": "https://localhost:8080/"
        },
        "outputId": "8e0febc1-d033-44b3-f25b-68c631b35a21"
      },
      "execution_count": 36,
      "outputs": [
        {
          "output_type": "stream",
          "name": "stdout",
          "text": [
            "Looking in indexes: https://pypi.org/simple, https://us-python.pkg.dev/colab-wheels/public/simple/\n",
            "Requirement already satisfied: matplotlib==3.1.1 in /usr/local/lib/python3.8/dist-packages (3.1.1)\n",
            "Requirement already satisfied: cycler>=0.10 in /usr/local/lib/python3.8/dist-packages (from matplotlib==3.1.1) (0.11.0)\n",
            "Requirement already satisfied: numpy>=1.11 in /usr/local/lib/python3.8/dist-packages (from matplotlib==3.1.1) (1.21.6)\n",
            "Requirement already satisfied: pyparsing!=2.0.4,!=2.1.2,!=2.1.6,>=2.0.1 in /usr/local/lib/python3.8/dist-packages (from matplotlib==3.1.1) (3.0.9)\n",
            "Requirement already satisfied: python-dateutil>=2.1 in /usr/local/lib/python3.8/dist-packages (from matplotlib==3.1.1) (2.8.2)\n",
            "Requirement already satisfied: kiwisolver>=1.0.1 in /usr/local/lib/python3.8/dist-packages (from matplotlib==3.1.1) (1.4.4)\n",
            "Requirement already satisfied: six>=1.5 in /usr/local/lib/python3.8/dist-packages (from python-dateutil>=2.1->matplotlib==3.1.1) (1.15.0)\n"
          ]
        }
      ]
    },
    {
      "cell_type": "markdown",
      "source": [
        "# Promotion Analysis: The Effect of Coupons on Customer Value (I)"
      ],
      "metadata": {
        "id": "zEcDNCQ2mmIe"
      }
    },
    {
      "cell_type": "markdown",
      "source": [
        "## Why this Analysis is Relevant\n",
        "\n",
        "Companies, especially e-commerce businesses regularly run campaigns to attract customers or boost sales. Coupons are among the most favored promotional instruments, as they have important features:\n",
        "\n",
        "- they can be sent out only to certain customers, if desired, and\n",
        "- the customer has to actively use the coupon code in the checkout process, which is why many more customers are exposed to the campaign than end up actually getting the (from the business perspectice) expensive discounts.\n",
        "\n",
        "However, coupons - really any kind of promotion - comes with a huge disadvantage:\n",
        "\n",
        "**They might be boosting short-term sales, but they are also likely to attract \"discount-prone\" customers, that only but when they see a promotion.**\n",
        "\n",
        "Therefore, the question is, how valuable are the customers we acquire with sich coupons? In this post I show a simple procedure to analyze this question and use the results to improve usage of promotions for customer acquisition."
      ],
      "metadata": {
        "id": "KnjUTboMm1hq"
      }
    },
    {
      "cell_type": "markdown",
      "source": [
        "## Research Question\n",
        "\n",
        "The RQ behind this analysis is the following: \n",
        "\n",
        "*What is the long-term value of customers acquired with coupons vs. organically acquired customers?*\n",
        "\n",
        "Our a-priori expectation of hypothesis would be: *These customers are less valuable (in terms of revenue generated) than organic customers*."
      ],
      "metadata": {
        "id": "bP388CDyo-v4"
      }
    },
    {
      "cell_type": "markdown",
      "source": [
        "## Our Example Case\n",
        "\n",
        "Let's assume we are running this example for the case of an online store for non-food fast-moving consumer goods. let's assume they sell soaps, candles, socks and and other kind of items in the price range of single to small double digit figures.\n",
        "\n",
        "Our customers can only purchase if they are signed-in or have an email address provided. Like with many e-commerce platform, we can obtain transactional data like this:\n",
        "\n"
      ],
      "metadata": {
        "id": "FNOScCT4pmtC"
      }
    },
    {
      "cell_type": "code",
      "execution_count": 37,
      "metadata": {
        "id": "9YphvcUFmlm8"
      },
      "outputs": [],
      "source": [
        "transactions = pd.read_csv(\"transactions_with_coupons.csv\", index_col = False)"
      ]
    },
    {
      "cell_type": "code",
      "source": [
        "transactions.head()"
      ],
      "metadata": {
        "colab": {
          "base_uri": "https://localhost:8080/",
          "height": 353
        },
        "id": "EEVuvfpLsfLe",
        "outputId": "49de627a-5ae7-4621-877a-f2d6d09ed701"
      },
      "execution_count": 38,
      "outputs": [
        {
          "output_type": "execute_result",
          "data": {
            "text/plain": [
              "                        customer_id acquisition_date  total_purchases  \\\n",
              "0  00378459dfa86b57b6f582a316d12034       2019-07-11               10   \n",
              "1  00378459dfa86b57b6f582a316d12034       2019-07-11               10   \n",
              "2  00378459dfa86b57b6f582a316d12034       2019-07-11               10   \n",
              "3  00378459dfa86b57b6f582a316d12034       2019-07-11               10   \n",
              "4  00378459dfa86b57b6f582a316d12034       2019-07-11               10   \n",
              "\n",
              "         date  quantity  revenue campaign coupon_code  discount  \n",
              "0  2019-07-25         7    57.12      NaN         NaN       0.0  \n",
              "1  2019-09-16         1    12.47      NaN         NaN       0.0  \n",
              "2  2020-01-31         5    30.75      NaN         NaN       0.0  \n",
              "3  2020-03-02         5    68.40      NaN         NaN       0.0  \n",
              "4  2020-03-05         8    78.96      NaN         NaN       0.0  "
            ],
            "text/html": [
              "\n",
              "  <div id=\"df-6f261b82-b272-43eb-ac15-c5338f987834\">\n",
              "    <div class=\"colab-df-container\">\n",
              "      <div>\n",
              "<style scoped>\n",
              "    .dataframe tbody tr th:only-of-type {\n",
              "        vertical-align: middle;\n",
              "    }\n",
              "\n",
              "    .dataframe tbody tr th {\n",
              "        vertical-align: top;\n",
              "    }\n",
              "\n",
              "    .dataframe thead th {\n",
              "        text-align: right;\n",
              "    }\n",
              "</style>\n",
              "<table border=\"1\" class=\"dataframe\">\n",
              "  <thead>\n",
              "    <tr style=\"text-align: right;\">\n",
              "      <th></th>\n",
              "      <th>customer_id</th>\n",
              "      <th>acquisition_date</th>\n",
              "      <th>total_purchases</th>\n",
              "      <th>date</th>\n",
              "      <th>quantity</th>\n",
              "      <th>revenue</th>\n",
              "      <th>campaign</th>\n",
              "      <th>coupon_code</th>\n",
              "      <th>discount</th>\n",
              "    </tr>\n",
              "  </thead>\n",
              "  <tbody>\n",
              "    <tr>\n",
              "      <th>0</th>\n",
              "      <td>00378459dfa86b57b6f582a316d12034</td>\n",
              "      <td>2019-07-11</td>\n",
              "      <td>10</td>\n",
              "      <td>2019-07-25</td>\n",
              "      <td>7</td>\n",
              "      <td>57.12</td>\n",
              "      <td>NaN</td>\n",
              "      <td>NaN</td>\n",
              "      <td>0.0</td>\n",
              "    </tr>\n",
              "    <tr>\n",
              "      <th>1</th>\n",
              "      <td>00378459dfa86b57b6f582a316d12034</td>\n",
              "      <td>2019-07-11</td>\n",
              "      <td>10</td>\n",
              "      <td>2019-09-16</td>\n",
              "      <td>1</td>\n",
              "      <td>12.47</td>\n",
              "      <td>NaN</td>\n",
              "      <td>NaN</td>\n",
              "      <td>0.0</td>\n",
              "    </tr>\n",
              "    <tr>\n",
              "      <th>2</th>\n",
              "      <td>00378459dfa86b57b6f582a316d12034</td>\n",
              "      <td>2019-07-11</td>\n",
              "      <td>10</td>\n",
              "      <td>2020-01-31</td>\n",
              "      <td>5</td>\n",
              "      <td>30.75</td>\n",
              "      <td>NaN</td>\n",
              "      <td>NaN</td>\n",
              "      <td>0.0</td>\n",
              "    </tr>\n",
              "    <tr>\n",
              "      <th>3</th>\n",
              "      <td>00378459dfa86b57b6f582a316d12034</td>\n",
              "      <td>2019-07-11</td>\n",
              "      <td>10</td>\n",
              "      <td>2020-03-02</td>\n",
              "      <td>5</td>\n",
              "      <td>68.40</td>\n",
              "      <td>NaN</td>\n",
              "      <td>NaN</td>\n",
              "      <td>0.0</td>\n",
              "    </tr>\n",
              "    <tr>\n",
              "      <th>4</th>\n",
              "      <td>00378459dfa86b57b6f582a316d12034</td>\n",
              "      <td>2019-07-11</td>\n",
              "      <td>10</td>\n",
              "      <td>2020-03-05</td>\n",
              "      <td>8</td>\n",
              "      <td>78.96</td>\n",
              "      <td>NaN</td>\n",
              "      <td>NaN</td>\n",
              "      <td>0.0</td>\n",
              "    </tr>\n",
              "  </tbody>\n",
              "</table>\n",
              "</div>\n",
              "      <button class=\"colab-df-convert\" onclick=\"convertToInteractive('df-6f261b82-b272-43eb-ac15-c5338f987834')\"\n",
              "              title=\"Convert this dataframe to an interactive table.\"\n",
              "              style=\"display:none;\">\n",
              "        \n",
              "  <svg xmlns=\"http://www.w3.org/2000/svg\" height=\"24px\"viewBox=\"0 0 24 24\"\n",
              "       width=\"24px\">\n",
              "    <path d=\"M0 0h24v24H0V0z\" fill=\"none\"/>\n",
              "    <path d=\"M18.56 5.44l.94 2.06.94-2.06 2.06-.94-2.06-.94-.94-2.06-.94 2.06-2.06.94zm-11 1L8.5 8.5l.94-2.06 2.06-.94-2.06-.94L8.5 2.5l-.94 2.06-2.06.94zm10 10l.94 2.06.94-2.06 2.06-.94-2.06-.94-.94-2.06-.94 2.06-2.06.94z\"/><path d=\"M17.41 7.96l-1.37-1.37c-.4-.4-.92-.59-1.43-.59-.52 0-1.04.2-1.43.59L10.3 9.45l-7.72 7.72c-.78.78-.78 2.05 0 2.83L4 21.41c.39.39.9.59 1.41.59.51 0 1.02-.2 1.41-.59l7.78-7.78 2.81-2.81c.8-.78.8-2.07 0-2.86zM5.41 20L4 18.59l7.72-7.72 1.47 1.35L5.41 20z\"/>\n",
              "  </svg>\n",
              "      </button>\n",
              "      \n",
              "  <style>\n",
              "    .colab-df-container {\n",
              "      display:flex;\n",
              "      flex-wrap:wrap;\n",
              "      gap: 12px;\n",
              "    }\n",
              "\n",
              "    .colab-df-convert {\n",
              "      background-color: #E8F0FE;\n",
              "      border: none;\n",
              "      border-radius: 50%;\n",
              "      cursor: pointer;\n",
              "      display: none;\n",
              "      fill: #1967D2;\n",
              "      height: 32px;\n",
              "      padding: 0 0 0 0;\n",
              "      width: 32px;\n",
              "    }\n",
              "\n",
              "    .colab-df-convert:hover {\n",
              "      background-color: #E2EBFA;\n",
              "      box-shadow: 0px 1px 2px rgba(60, 64, 67, 0.3), 0px 1px 3px 1px rgba(60, 64, 67, 0.15);\n",
              "      fill: #174EA6;\n",
              "    }\n",
              "\n",
              "    [theme=dark] .colab-df-convert {\n",
              "      background-color: #3B4455;\n",
              "      fill: #D2E3FC;\n",
              "    }\n",
              "\n",
              "    [theme=dark] .colab-df-convert:hover {\n",
              "      background-color: #434B5C;\n",
              "      box-shadow: 0px 1px 3px 1px rgba(0, 0, 0, 0.15);\n",
              "      filter: drop-shadow(0px 1px 2px rgba(0, 0, 0, 0.3));\n",
              "      fill: #FFFFFF;\n",
              "    }\n",
              "  </style>\n",
              "\n",
              "      <script>\n",
              "        const buttonEl =\n",
              "          document.querySelector('#df-6f261b82-b272-43eb-ac15-c5338f987834 button.colab-df-convert');\n",
              "        buttonEl.style.display =\n",
              "          google.colab.kernel.accessAllowed ? 'block' : 'none';\n",
              "\n",
              "        async function convertToInteractive(key) {\n",
              "          const element = document.querySelector('#df-6f261b82-b272-43eb-ac15-c5338f987834');\n",
              "          const dataTable =\n",
              "            await google.colab.kernel.invokeFunction('convertToInteractive',\n",
              "                                                     [key], {});\n",
              "          if (!dataTable) return;\n",
              "\n",
              "          const docLinkHtml = 'Like what you see? Visit the ' +\n",
              "            '<a target=\"_blank\" href=https://colab.research.google.com/notebooks/data_table.ipynb>data table notebook</a>'\n",
              "            + ' to learn more about interactive tables.';\n",
              "          element.innerHTML = '';\n",
              "          dataTable['output_type'] = 'display_data';\n",
              "          await google.colab.output.renderOutput(dataTable, element);\n",
              "          const docLink = document.createElement('div');\n",
              "          docLink.innerHTML = docLinkHtml;\n",
              "          element.appendChild(docLink);\n",
              "        }\n",
              "      </script>\n",
              "    </div>\n",
              "  </div>\n",
              "  "
            ]
          },
          "metadata": {},
          "execution_count": 38
        }
      ]
    },
    {
      "cell_type": "markdown",
      "source": [
        "There is one row per customer and transaction with nine columns:\n",
        "\n",
        "- *customer_id*: unique identifier of the customer\n",
        "- *acquisition_date*: the date at which the customer had their first transaction (the same for all transactions of the same customer)\n",
        "- *date*: the date of the transaction\n",
        "- *revenue*: the total revenue of the transaction (amount paid by the customer)\n",
        "- *campaign*: name of the campaign the customer redeemed a coupon from\n",
        "- *coupon_code*: the coupon code used to\n",
        "obtain the discount\n",
        "- *discount*: the relative discount obtained with the coupon\n",
        "\n",
        "The latter three columns are NA, if the transaction did not involve a coupon."
      ],
      "metadata": {
        "id": "WxqYdK8fslwf"
      }
    },
    {
      "cell_type": "code",
      "source": [
        "transactions.describe(include = \"all\", datetime_is_numeric=True)"
      ],
      "metadata": {
        "colab": {
          "base_uri": "https://localhost:8080/",
          "height": 471
        },
        "id": "pJIYEBC2uwi4",
        "outputId": "45304191-fe2e-44be-c8a6-cddb55fcf8b7"
      },
      "execution_count": 39,
      "outputs": [
        {
          "output_type": "execute_result",
          "data": {
            "text/plain": [
              "                             customer_id acquisition_date  total_purchases  \\\n",
              "count                               2432             2432      2432.000000   \n",
              "unique                               992             1000              NaN   \n",
              "top     69db9f9ce6e81a9c1bf3fbfe07bb9d09       2021-11-04              NaN   \n",
              "freq                                  11               11              NaN   \n",
              "mean                                 NaN              NaN         3.805099   \n",
              "std                                  NaN              NaN         2.475351   \n",
              "min                                  NaN              NaN         1.000000   \n",
              "25%                                  NaN              NaN         2.000000   \n",
              "50%                                  NaN              NaN         3.000000   \n",
              "75%                                  NaN              NaN         5.000000   \n",
              "max                                  NaN              NaN        11.000000   \n",
              "\n",
              "              date     quantity      revenue    campaign coupon_code  \\\n",
              "count         2432  2432.000000  2432.000000         353         353   \n",
              "unique        1024          NaN          NaN           4           4   \n",
              "top     2022-12-28          NaN          NaN  Newsletter      TLMIVP   \n",
              "freq            13          NaN          NaN         281         281   \n",
              "mean           NaN     5.582237    55.689359         NaN         NaN   \n",
              "std            NaN     2.869975    33.865079         NaN         NaN   \n",
              "min            NaN     1.000000     5.100000         NaN         NaN   \n",
              "25%            NaN     3.000000    30.487500         NaN         NaN   \n",
              "50%            NaN     5.500000    51.300000         NaN         NaN   \n",
              "75%            NaN     8.000000    75.285000         NaN         NaN   \n",
              "max            NaN    15.000000   207.760000         NaN         NaN   \n",
              "\n",
              "           discount  \n",
              "count   2432.000000  \n",
              "unique          NaN  \n",
              "top             NaN  \n",
              "freq            NaN  \n",
              "mean       0.016057  \n",
              "std        0.039850  \n",
              "min        0.000000  \n",
              "25%        0.000000  \n",
              "50%        0.000000  \n",
              "75%        0.000000  \n",
              "max        0.250000  "
            ],
            "text/html": [
              "\n",
              "  <div id=\"df-c9030153-445d-4cd2-8dfa-11484e7760a5\">\n",
              "    <div class=\"colab-df-container\">\n",
              "      <div>\n",
              "<style scoped>\n",
              "    .dataframe tbody tr th:only-of-type {\n",
              "        vertical-align: middle;\n",
              "    }\n",
              "\n",
              "    .dataframe tbody tr th {\n",
              "        vertical-align: top;\n",
              "    }\n",
              "\n",
              "    .dataframe thead th {\n",
              "        text-align: right;\n",
              "    }\n",
              "</style>\n",
              "<table border=\"1\" class=\"dataframe\">\n",
              "  <thead>\n",
              "    <tr style=\"text-align: right;\">\n",
              "      <th></th>\n",
              "      <th>customer_id</th>\n",
              "      <th>acquisition_date</th>\n",
              "      <th>total_purchases</th>\n",
              "      <th>date</th>\n",
              "      <th>quantity</th>\n",
              "      <th>revenue</th>\n",
              "      <th>campaign</th>\n",
              "      <th>coupon_code</th>\n",
              "      <th>discount</th>\n",
              "    </tr>\n",
              "  </thead>\n",
              "  <tbody>\n",
              "    <tr>\n",
              "      <th>count</th>\n",
              "      <td>2432</td>\n",
              "      <td>2432</td>\n",
              "      <td>2432.000000</td>\n",
              "      <td>2432</td>\n",
              "      <td>2432.000000</td>\n",
              "      <td>2432.000000</td>\n",
              "      <td>353</td>\n",
              "      <td>353</td>\n",
              "      <td>2432.000000</td>\n",
              "    </tr>\n",
              "    <tr>\n",
              "      <th>unique</th>\n",
              "      <td>992</td>\n",
              "      <td>1000</td>\n",
              "      <td>NaN</td>\n",
              "      <td>1024</td>\n",
              "      <td>NaN</td>\n",
              "      <td>NaN</td>\n",
              "      <td>4</td>\n",
              "      <td>4</td>\n",
              "      <td>NaN</td>\n",
              "    </tr>\n",
              "    <tr>\n",
              "      <th>top</th>\n",
              "      <td>69db9f9ce6e81a9c1bf3fbfe07bb9d09</td>\n",
              "      <td>2021-11-04</td>\n",
              "      <td>NaN</td>\n",
              "      <td>2022-12-28</td>\n",
              "      <td>NaN</td>\n",
              "      <td>NaN</td>\n",
              "      <td>Newsletter</td>\n",
              "      <td>TLMIVP</td>\n",
              "      <td>NaN</td>\n",
              "    </tr>\n",
              "    <tr>\n",
              "      <th>freq</th>\n",
              "      <td>11</td>\n",
              "      <td>11</td>\n",
              "      <td>NaN</td>\n",
              "      <td>13</td>\n",
              "      <td>NaN</td>\n",
              "      <td>NaN</td>\n",
              "      <td>281</td>\n",
              "      <td>281</td>\n",
              "      <td>NaN</td>\n",
              "    </tr>\n",
              "    <tr>\n",
              "      <th>mean</th>\n",
              "      <td>NaN</td>\n",
              "      <td>NaN</td>\n",
              "      <td>3.805099</td>\n",
              "      <td>NaN</td>\n",
              "      <td>5.582237</td>\n",
              "      <td>55.689359</td>\n",
              "      <td>NaN</td>\n",
              "      <td>NaN</td>\n",
              "      <td>0.016057</td>\n",
              "    </tr>\n",
              "    <tr>\n",
              "      <th>std</th>\n",
              "      <td>NaN</td>\n",
              "      <td>NaN</td>\n",
              "      <td>2.475351</td>\n",
              "      <td>NaN</td>\n",
              "      <td>2.869975</td>\n",
              "      <td>33.865079</td>\n",
              "      <td>NaN</td>\n",
              "      <td>NaN</td>\n",
              "      <td>0.039850</td>\n",
              "    </tr>\n",
              "    <tr>\n",
              "      <th>min</th>\n",
              "      <td>NaN</td>\n",
              "      <td>NaN</td>\n",
              "      <td>1.000000</td>\n",
              "      <td>NaN</td>\n",
              "      <td>1.000000</td>\n",
              "      <td>5.100000</td>\n",
              "      <td>NaN</td>\n",
              "      <td>NaN</td>\n",
              "      <td>0.000000</td>\n",
              "    </tr>\n",
              "    <tr>\n",
              "      <th>25%</th>\n",
              "      <td>NaN</td>\n",
              "      <td>NaN</td>\n",
              "      <td>2.000000</td>\n",
              "      <td>NaN</td>\n",
              "      <td>3.000000</td>\n",
              "      <td>30.487500</td>\n",
              "      <td>NaN</td>\n",
              "      <td>NaN</td>\n",
              "      <td>0.000000</td>\n",
              "    </tr>\n",
              "    <tr>\n",
              "      <th>50%</th>\n",
              "      <td>NaN</td>\n",
              "      <td>NaN</td>\n",
              "      <td>3.000000</td>\n",
              "      <td>NaN</td>\n",
              "      <td>5.500000</td>\n",
              "      <td>51.300000</td>\n",
              "      <td>NaN</td>\n",
              "      <td>NaN</td>\n",
              "      <td>0.000000</td>\n",
              "    </tr>\n",
              "    <tr>\n",
              "      <th>75%</th>\n",
              "      <td>NaN</td>\n",
              "      <td>NaN</td>\n",
              "      <td>5.000000</td>\n",
              "      <td>NaN</td>\n",
              "      <td>8.000000</td>\n",
              "      <td>75.285000</td>\n",
              "      <td>NaN</td>\n",
              "      <td>NaN</td>\n",
              "      <td>0.000000</td>\n",
              "    </tr>\n",
              "    <tr>\n",
              "      <th>max</th>\n",
              "      <td>NaN</td>\n",
              "      <td>NaN</td>\n",
              "      <td>11.000000</td>\n",
              "      <td>NaN</td>\n",
              "      <td>15.000000</td>\n",
              "      <td>207.760000</td>\n",
              "      <td>NaN</td>\n",
              "      <td>NaN</td>\n",
              "      <td>0.250000</td>\n",
              "    </tr>\n",
              "  </tbody>\n",
              "</table>\n",
              "</div>\n",
              "      <button class=\"colab-df-convert\" onclick=\"convertToInteractive('df-c9030153-445d-4cd2-8dfa-11484e7760a5')\"\n",
              "              title=\"Convert this dataframe to an interactive table.\"\n",
              "              style=\"display:none;\">\n",
              "        \n",
              "  <svg xmlns=\"http://www.w3.org/2000/svg\" height=\"24px\"viewBox=\"0 0 24 24\"\n",
              "       width=\"24px\">\n",
              "    <path d=\"M0 0h24v24H0V0z\" fill=\"none\"/>\n",
              "    <path d=\"M18.56 5.44l.94 2.06.94-2.06 2.06-.94-2.06-.94-.94-2.06-.94 2.06-2.06.94zm-11 1L8.5 8.5l.94-2.06 2.06-.94-2.06-.94L8.5 2.5l-.94 2.06-2.06.94zm10 10l.94 2.06.94-2.06 2.06-.94-2.06-.94-.94-2.06-.94 2.06-2.06.94z\"/><path d=\"M17.41 7.96l-1.37-1.37c-.4-.4-.92-.59-1.43-.59-.52 0-1.04.2-1.43.59L10.3 9.45l-7.72 7.72c-.78.78-.78 2.05 0 2.83L4 21.41c.39.39.9.59 1.41.59.51 0 1.02-.2 1.41-.59l7.78-7.78 2.81-2.81c.8-.78.8-2.07 0-2.86zM5.41 20L4 18.59l7.72-7.72 1.47 1.35L5.41 20z\"/>\n",
              "  </svg>\n",
              "      </button>\n",
              "      \n",
              "  <style>\n",
              "    .colab-df-container {\n",
              "      display:flex;\n",
              "      flex-wrap:wrap;\n",
              "      gap: 12px;\n",
              "    }\n",
              "\n",
              "    .colab-df-convert {\n",
              "      background-color: #E8F0FE;\n",
              "      border: none;\n",
              "      border-radius: 50%;\n",
              "      cursor: pointer;\n",
              "      display: none;\n",
              "      fill: #1967D2;\n",
              "      height: 32px;\n",
              "      padding: 0 0 0 0;\n",
              "      width: 32px;\n",
              "    }\n",
              "\n",
              "    .colab-df-convert:hover {\n",
              "      background-color: #E2EBFA;\n",
              "      box-shadow: 0px 1px 2px rgba(60, 64, 67, 0.3), 0px 1px 3px 1px rgba(60, 64, 67, 0.15);\n",
              "      fill: #174EA6;\n",
              "    }\n",
              "\n",
              "    [theme=dark] .colab-df-convert {\n",
              "      background-color: #3B4455;\n",
              "      fill: #D2E3FC;\n",
              "    }\n",
              "\n",
              "    [theme=dark] .colab-df-convert:hover {\n",
              "      background-color: #434B5C;\n",
              "      box-shadow: 0px 1px 3px 1px rgba(0, 0, 0, 0.15);\n",
              "      filter: drop-shadow(0px 1px 2px rgba(0, 0, 0, 0.3));\n",
              "      fill: #FFFFFF;\n",
              "    }\n",
              "  </style>\n",
              "\n",
              "      <script>\n",
              "        const buttonEl =\n",
              "          document.querySelector('#df-c9030153-445d-4cd2-8dfa-11484e7760a5 button.colab-df-convert');\n",
              "        buttonEl.style.display =\n",
              "          google.colab.kernel.accessAllowed ? 'block' : 'none';\n",
              "\n",
              "        async function convertToInteractive(key) {\n",
              "          const element = document.querySelector('#df-c9030153-445d-4cd2-8dfa-11484e7760a5');\n",
              "          const dataTable =\n",
              "            await google.colab.kernel.invokeFunction('convertToInteractive',\n",
              "                                                     [key], {});\n",
              "          if (!dataTable) return;\n",
              "\n",
              "          const docLinkHtml = 'Like what you see? Visit the ' +\n",
              "            '<a target=\"_blank\" href=https://colab.research.google.com/notebooks/data_table.ipynb>data table notebook</a>'\n",
              "            + ' to learn more about interactive tables.';\n",
              "          element.innerHTML = '';\n",
              "          dataTable['output_type'] = 'display_data';\n",
              "          await google.colab.output.renderOutput(dataTable, element);\n",
              "          const docLink = document.createElement('div');\n",
              "          docLink.innerHTML = docLinkHtml;\n",
              "          element.appendChild(docLink);\n",
              "        }\n",
              "      </script>\n",
              "    </div>\n",
              "  </div>\n",
              "  "
            ]
          },
          "metadata": {},
          "execution_count": 39
        }
      ]
    },
    {
      "cell_type": "markdown",
      "source": [
        "Here, we can see that we have about 1,000 customers making a total of 2,432 transactions."
      ],
      "metadata": {
        "id": "RzU-AtUWEELm"
      }
    },
    {
      "cell_type": "code",
      "source": [
        "print(f\"Start: {transactions['date'].min()}, End: {transactions['date'].max()}\")"
      ],
      "metadata": {
        "colab": {
          "base_uri": "https://localhost:8080/"
        },
        "id": "oGPZiy13EXvQ",
        "outputId": "d7019950-d7b4-4d4f-835b-32c8f1764fdd"
      },
      "execution_count": 40,
      "outputs": [
        {
          "output_type": "stream",
          "name": "stdout",
          "text": [
            "Start: 2018-01-27, End: 2022-12-31\n"
          ]
        }
      ]
    },
    {
      "cell_type": "markdown",
      "source": [
        "The time frame considered is between beginning of 2018 and December 2022."
      ],
      "metadata": {
        "id": "6qzOgrViFBfh"
      }
    },
    {
      "cell_type": "code",
      "source": [
        "transactions.groupby(pd.to_datetime(transactions.date).dt.strftime(\"%Y-%m\"))[\"total_purchases\"].sum().plot()"
      ],
      "metadata": {
        "colab": {
          "base_uri": "https://localhost:8080/",
          "height": 301
        },
        "id": "TP_32NhEbpMl",
        "outputId": "ebdea93d-6a7a-400a-9660-2b23604dde28"
      },
      "execution_count": 41,
      "outputs": [
        {
          "output_type": "execute_result",
          "data": {
            "text/plain": [
              "<matplotlib.axes._subplots.AxesSubplot at 0x7f103d27c4f0>"
            ]
          },
          "metadata": {},
          "execution_count": 41
        },
        {
          "output_type": "display_data",
          "data": {
            "text/plain": [
              "<Figure size 432x288 with 1 Axes>"
            ],
            "image/png": "[encoded data removed]"
          },
          "metadata": {
            "needs_background": "light"
          }
        }
      ]
    },
    {
      "cell_type": "code",
      "source": [
        "transactions.groupby(pd.to_datetime(transactions.date).dt.strftime(\"%Y-%m\"))[\"revenue\"].mean().plot()"
      ],
      "metadata": {
        "colab": {
          "base_uri": "https://localhost:8080/",
          "height": 297
        },
        "id": "VKiD400ScgF6",
        "outputId": "45f8e124-0e69-4cfb-d8d2-5c042ec49327"
      },
      "execution_count": 42,
      "outputs": [
        {
          "output_type": "execute_result",
          "data": {
            "text/plain": [
              "<matplotlib.axes._subplots.AxesSubplot at 0x7f103d2308e0>"
            ]
          },
          "metadata": {},
          "execution_count": 42
        },
        {
          "output_type": "display_data",
          "data": {
            "text/plain": [
              "<Figure size 432x288 with 1 Axes>"
            ],
            "image/png": "[encoded data removed]"
          },
          "metadata": {
            "needs_background": "light"
          }
        }
      ]
    },
    {
      "cell_type": "code",
      "source": [
        "transactions.groupby(\"campaign\").agg({\"discount\": \"mean\", \"date\": [\"min\", \"max\"]})"
      ],
      "metadata": {
        "colab": {
          "base_uri": "https://localhost:8080/",
          "height": 235
        },
        "id": "XbYbrwGouXzO",
        "outputId": "00f25306-2928-4494-dee2-00c0688400ea"
      },
      "execution_count": 43,
      "outputs": [
        {
          "output_type": "execute_result",
          "data": {
            "text/plain": [
              "               discount        date            \n",
              "                   mean         min         max\n",
              "campaign                                       \n",
              "Newsletter         0.10  2018-03-18  2022-12-31\n",
              "Partner            0.15  2018-12-05  2022-12-23\n",
              "Valentines2021     0.20  2021-02-14  2021-02-14\n",
              "Valentines2022     0.25  2022-02-14  2022-02-14"
            ],
            "text/html": [
              "\n",
              "  <div id=\"df-f6085dad-f225-4693-9351-f9da44baaa55\">\n",
              "    <div class=\"colab-df-container\">\n",
              "      <div>\n",
              "<style scoped>\n",
              "    .dataframe tbody tr th:only-of-type {\n",
              "        vertical-align: middle;\n",
              "    }\n",
              "\n",
              "    .dataframe tbody tr th {\n",
              "        vertical-align: top;\n",
              "    }\n",
              "\n",
              "    .dataframe thead tr th {\n",
              "        text-align: left;\n",
              "    }\n",
              "\n",
              "    .dataframe thead tr:last-of-type th {\n",
              "        text-align: right;\n",
              "    }\n",
              "</style>\n",
              "<table border=\"1\" class=\"dataframe\">\n",
              "  <thead>\n",
              "    <tr>\n",
              "      <th></th>\n",
              "      <th>discount</th>\n",
              "      <th colspan=\"2\" halign=\"left\">date</th>\n",
              "    </tr>\n",
              "    <tr>\n",
              "      <th></th>\n",
              "      <th>mean</th>\n",
              "      <th>min</th>\n",
              "      <th>max</th>\n",
              "    </tr>\n",
              "    <tr>\n",
              "      <th>campaign</th>\n",
              "      <th></th>\n",
              "      <th></th>\n",
              "      <th></th>\n",
              "    </tr>\n",
              "  </thead>\n",
              "  <tbody>\n",
              "    <tr>\n",
              "      <th>Newsletter</th>\n",
              "      <td>0.10</td>\n",
              "      <td>2018-03-18</td>\n",
              "      <td>2022-12-31</td>\n",
              "    </tr>\n",
              "    <tr>\n",
              "      <th>Partner</th>\n",
              "      <td>0.15</td>\n",
              "      <td>2018-12-05</td>\n",
              "      <td>2022-12-23</td>\n",
              "    </tr>\n",
              "    <tr>\n",
              "      <th>Valentines2021</th>\n",
              "      <td>0.20</td>\n",
              "      <td>2021-02-14</td>\n",
              "      <td>2021-02-14</td>\n",
              "    </tr>\n",
              "    <tr>\n",
              "      <th>Valentines2022</th>\n",
              "      <td>0.25</td>\n",
              "      <td>2022-02-14</td>\n",
              "      <td>2022-02-14</td>\n",
              "    </tr>\n",
              "  </tbody>\n",
              "</table>\n",
              "</div>\n",
              "      <button class=\"colab-df-convert\" onclick=\"convertToInteractive('df-f6085dad-f225-4693-9351-f9da44baaa55')\"\n",
              "              title=\"Convert this dataframe to an interactive table.\"\n",
              "              style=\"display:none;\">\n",
              "        \n",
              "  <svg xmlns=\"http://www.w3.org/2000/svg\" height=\"24px\"viewBox=\"0 0 24 24\"\n",
              "       width=\"24px\">\n",
              "    <path d=\"M0 0h24v24H0V0z\" fill=\"none\"/>\n",
              "    <path d=\"M18.56 5.44l.94 2.06.94-2.06 2.06-.94-2.06-.94-.94-2.06-.94 2.06-2.06.94zm-11 1L8.5 8.5l.94-2.06 2.06-.94-2.06-.94L8.5 2.5l-.94 2.06-2.06.94zm10 10l.94 2.06.94-2.06 2.06-.94-2.06-.94-.94-2.06-.94 2.06-2.06.94z\"/><path d=\"M17.41 7.96l-1.37-1.37c-.4-.4-.92-.59-1.43-.59-.52 0-1.04.2-1.43.59L10.3 9.45l-7.72 7.72c-.78.78-.78 2.05 0 2.83L4 21.41c.39.39.9.59 1.41.59.51 0 1.02-.2 1.41-.59l7.78-7.78 2.81-2.81c.8-.78.8-2.07 0-2.86zM5.41 20L4 18.59l7.72-7.72 1.47 1.35L5.41 20z\"/>\n",
              "  </svg>\n",
              "      </button>\n",
              "      \n",
              "  <style>\n",
              "    .colab-df-container {\n",
              "      display:flex;\n",
              "      flex-wrap:wrap;\n",
              "      gap: 12px;\n",
              "    }\n",
              "\n",
              "    .colab-df-convert {\n",
              "      background-color: #E8F0FE;\n",
              "      border: none;\n",
              "      border-radius: 50%;\n",
              "      cursor: pointer;\n",
              "      display: none;\n",
              "      fill: #1967D2;\n",
              "      height: 32px;\n",
              "      padding: 0 0 0 0;\n",
              "      width: 32px;\n",
              "    }\n",
              "\n",
              "    .colab-df-convert:hover {\n",
              "      background-color: #E2EBFA;\n",
              "      box-shadow: 0px 1px 2px rgba(60, 64, 67, 0.3), 0px 1px 3px 1px rgba(60, 64, 67, 0.15);\n",
              "      fill: #174EA6;\n",
              "    }\n",
              "\n",
              "    [theme=dark] .colab-df-convert {\n",
              "      background-color: #3B4455;\n",
              "      fill: #D2E3FC;\n",
              "    }\n",
              "\n",
              "    [theme=dark] .colab-df-convert:hover {\n",
              "      background-color: #434B5C;\n",
              "      box-shadow: 0px 1px 3px 1px rgba(0, 0, 0, 0.15);\n",
              "      filter: drop-shadow(0px 1px 2px rgba(0, 0, 0, 0.3));\n",
              "      fill: #FFFFFF;\n",
              "    }\n",
              "  </style>\n",
              "\n",
              "      <script>\n",
              "        const buttonEl =\n",
              "          document.querySelector('#df-f6085dad-f225-4693-9351-f9da44baaa55 button.colab-df-convert');\n",
              "        buttonEl.style.display =\n",
              "          google.colab.kernel.accessAllowed ? 'block' : 'none';\n",
              "\n",
              "        async function convertToInteractive(key) {\n",
              "          const element = document.querySelector('#df-f6085dad-f225-4693-9351-f9da44baaa55');\n",
              "          const dataTable =\n",
              "            await google.colab.kernel.invokeFunction('convertToInteractive',\n",
              "                                                     [key], {});\n",
              "          if (!dataTable) return;\n",
              "\n",
              "          const docLinkHtml = 'Like what you see? Visit the ' +\n",
              "            '<a target=\"_blank\" href=https://colab.research.google.com/notebooks/data_table.ipynb>data table notebook</a>'\n",
              "            + ' to learn more about interactive tables.';\n",
              "          element.innerHTML = '';\n",
              "          dataTable['output_type'] = 'display_data';\n",
              "          await google.colab.output.renderOutput(dataTable, element);\n",
              "          const docLink = document.createElement('div');\n",
              "          docLink.innerHTML = docLinkHtml;\n",
              "          element.appendChild(docLink);\n",
              "        }\n",
              "      </script>\n",
              "    </div>\n",
              "  </div>\n",
              "  "
            ]
          },
          "metadata": {},
          "execution_count": 43
        }
      ]
    },
    {
      "cell_type": "markdown",
      "source": [
        "We can also identify two campaigns: Newsletter and Valentines22.\n",
        "\n",
        "- **Newsletter**: An ongoing campaign yielding ten percent discount for a newsöetter sign-up.\n",
        "- **Valentines22**: A one-off campaign for Valentine's Day giving a 25 percent discount."
      ],
      "metadata": {
        "id": "y6uqYhVTFKbK"
      }
    },
    {
      "cell_type": "markdown",
      "source": [
        "## Data Prep\n",
        "\n",
        "The above data is a pretty standard format to be obtained from an online store backend. In order to reproduce the following steps of data preparation, make sure you have the data in the same shape, i. e. one row per customer and transacrion / purchase incidence."
      ],
      "metadata": {
        "id": "g3WlQTPNFryk"
      }
    },
    {
      "cell_type": "markdown",
      "source": [
        "### Calculating Discount and Revenue before Discount\n",
        "\n",
        "The first thing you may habe noticed is the *revenue* column, containing the payment amount for each transaction. We want to determine the *revenue before discount* and the actual *discount* in $."
      ],
      "metadata": {
        "id": "aiRNS3BqGF--"
      }
    },
    {
      "cell_type": "code",
      "source": [
        "transactions[\"discount_amount\"] = (transactions[\"revenue\"]*(1+transactions[\"discount\"]))-transactions[\"revenue\"]"
      ],
      "metadata": {
        "id": "mLJKRkp5Goio"
      },
      "execution_count": 44,
      "outputs": []
    },
    {
      "cell_type": "code",
      "source": [
        "transactions[\"revenue_before_discount\"] = transactions[\"revenue\"] + transactions[\"discount_amount\"]"
      ],
      "metadata": {
        "id": "_Wyiq_TxK3zK"
      },
      "execution_count": 45,
      "outputs": []
    },
    {
      "cell_type": "markdown",
      "source": [
        "### Splitting between First and Later Transactions\n",
        "\n",
        "Recall, that we want to know which effect a coupon upon acquisition has on the value of the customer. The contribution to the total value from the first transaction is, due to the discount, systematically biased (i. e., lower) if a coupon is used. Therefore, we will split the transactions into the first and later transactions.\n",
        "\n",
        "```mermaid\n",
        "gantt\n",
        "    title A Gantt Diagram\n",
        "    dateFormat  YYYY-MM-DD\n",
        "    axisFormat %m/%y\n",
        "    section Repeating Customer\n",
        "    Acquisition Transaction           :a1, 2020-08-01, 1d\n",
        "    Repeat Transaction                :a2, 2020-10-27, 1d\n",
        "    Repeat Transaction                :a3, 2021-02-02, 1d\n",
        "    section One-time Customer\n",
        "    Acquisition Transaction           :b1, 2020-09-12, 1d\n",
        "```\n",
        "\n",
        "For that we first need to find the rolling number of each transaction."
      ],
      "metadata": {
        "id": "6J6-jmBQLJQz"
      }
    },
    {
      "cell_type": "code",
      "source": [
        "transactions[\"transaction_num\"] = transactions.groupby(\"customer_id\").cumcount()+1"
      ],
      "metadata": {
        "id": "9-SA9WYWL6lv"
      },
      "execution_count": 46,
      "outputs": []
    },
    {
      "cell_type": "markdown",
      "source": [
        "Lets see how many customer per total number of transactions we have:"
      ],
      "metadata": {
        "id": "7oDCCdIrMk46"
      }
    },
    {
      "cell_type": "code",
      "source": [
        "transactions.groupby(\"transaction_num\").size()"
      ],
      "metadata": {
        "colab": {
          "base_uri": "https://localhost:8080/"
        },
        "id": "Ua_KeXD0MsPb",
        "outputId": "b289ffa9-938a-4436-e13b-4bbd32e4a715"
      },
      "execution_count": 47,
      "outputs": [
        {
          "output_type": "execute_result",
          "data": {
            "text/plain": [
              "transaction_num\n",
              "1     992\n",
              "2     598\n",
              "3     344\n",
              "4     216\n",
              "5     112\n",
              "6      64\n",
              "7      44\n",
              "8      31\n",
              "9      19\n",
              "10     10\n",
              "11      2\n",
              "dtype: int64"
            ]
          },
          "metadata": {},
          "execution_count": 47
        }
      ]
    },
    {
      "cell_type": "markdown",
      "source": [
        "In the second row we can see that we have 599 repeating customers with at least two transactions and only 396 customers "
      ],
      "metadata": {
        "id": "VfOqIYubM_90"
      }
    },
    {
      "cell_type": "markdown",
      "source": [
        "We will now extract the characteristicsof each of the customers' first transaction and append it to a summarized data frame of later transactions."
      ],
      "metadata": {
        "id": "n-ArqQDZOnbn"
      }
    },
    {
      "cell_type": "code",
      "source": [
        "first_transactions = transactions[transactions[\"transaction_num\"] == 1][[\"customer_id\", \"total_purchases\", \"acquisition_date\", \"quantity\", \"campaign\"]].set_index(\"customer_id\")"
      ],
      "metadata": {
        "id": "I8EFW9rAO3VJ"
      },
      "execution_count": 48,
      "outputs": []
    },
    {
      "cell_type": "markdown",
      "source": [
        "Let's do some renaming to make the information easily interpretable and also replace the NAs in campaigns with \"None\", so they don't get accidentally dropped:"
      ],
      "metadata": {
        "id": "nVXMnP0RVMAN"
      }
    },
    {
      "cell_type": "code",
      "source": [
        "first_transactions.columns = [\"total_purchases\", \"acquisition_date\", \"quantity_first\", \"campaign_first\"]"
      ],
      "metadata": {
        "id": "hsyefhTvT-No"
      },
      "execution_count": 49,
      "outputs": []
    },
    {
      "cell_type": "code",
      "source": [
        "first_transactions[\"campaign_first\"] = first_transactions[\"campaign_first\"].fillna(\"None\")"
      ],
      "metadata": {
        "id": "ZmuVQMTNVaDE"
      },
      "execution_count": 50,
      "outputs": []
    },
    {
      "cell_type": "code",
      "source": [
        "first_transactions[\"repeat_customer\"] = np.where(first_transactions[\"total_purchases\"] > 1, 1, 0)"
      ],
      "metadata": {
        "id": "16TXFJjOHLUY"
      },
      "execution_count": 51,
      "outputs": []
    },
    {
      "cell_type": "code",
      "source": [
        "first_transactions.groupby(\"repeat_customer\").size()"
      ],
      "metadata": {
        "colab": {
          "base_uri": "https://localhost:8080/"
        },
        "id": "fG6DNJbFKplP",
        "outputId": "6e70b251-ec94-41e9-a7e7-eacacf754f58"
      },
      "execution_count": 52,
      "outputs": [
        {
          "output_type": "execute_result",
          "data": {
            "text/plain": [
              "repeat_customer\n",
              "0    396\n",
              "1    596\n",
              "dtype: int64"
            ]
          },
          "metadata": {},
          "execution_count": 52
        }
      ]
    },
    {
      "cell_type": "code",
      "source": [
        "first_transactions.to_csv(\"first_transactions.csv\")"
      ],
      "metadata": {
        "id": "1zW4duzFKyR5"
      },
      "execution_count": 53,
      "outputs": []
    },
    {
      "cell_type": "code",
      "source": [
        "later_transactions = transactions[transactions[\"transaction_num\"] > 1].groupby(\"customer_id\").agg({\"customer_id\": \"count\", \"revenue\": \"sum\", \"quantity\": \"mean\", \"date\": \"max\", \"discount\": \"mean\"})"
      ],
      "metadata": {
        "id": "v64zZaDPQJR2"
      },
      "execution_count": 54,
      "outputs": []
    },
    {
      "cell_type": "markdown",
      "source": [
        "We are aggregating the later transactions for each customer and get the total number of later transactions, total revenue (i. e., value), the mean quantity purchased, the date of latest purchase and the mean discount from later transactions. We elaborate on the need for each of these variables later. First, lets do some\n",
        "renaming for better interpretability:"
      ],
      "metadata": {
        "id": "BC4EdL6WQ5ZD"
      }
    },
    {
      "cell_type": "code",
      "source": [
        "later_transactions.columns = [\"transactions_num_later\", \"value\", \"quantity_later\", \"max_date\", \"discounts_later\"]"
      ],
      "metadata": {
        "id": "EwYdhl5yR9HK"
      },
      "execution_count": 55,
      "outputs": []
    },
    {
      "cell_type": "markdown",
      "source": [
        "Now, let's merge the aggregated later transactions with the characteristics of the first transactions."
      ],
      "metadata": {
        "id": "LE7KNg6FUZha"
      }
    },
    {
      "cell_type": "code",
      "source": [
        "later_transactions = later_transactions.merge(first_transactions, left_index = True, right_index = True, how = \"left\")"
      ],
      "metadata": {
        "id": "9Bvka2xdTNLy"
      },
      "execution_count": 56,
      "outputs": []
    },
    {
      "cell_type": "markdown",
      "source": [
        "We now have a data frame with one row per customer and the information of later and first transactions as columns. Let's take a brief look:"
      ],
      "metadata": {
        "id": "nRYrLqsvUh27"
      }
    },
    {
      "cell_type": "code",
      "source": [
        "later_transactions.head()"
      ],
      "metadata": {
        "colab": {
          "base_uri": "https://localhost:8080/",
          "height": 384
        },
        "id": "WSKXciGUKgs_",
        "outputId": "ff0f93f2-b190-45ad-f05f-c94e70d41c2f"
      },
      "execution_count": 57,
      "outputs": [
        {
          "output_type": "execute_result",
          "data": {
            "text/plain": [
              "                                  transactions_num_later   value  \\\n",
              "customer_id                                                        \n",
              "00378459dfa86b57b6f582a316d12034                       9  469.08   \n",
              "008f155e8c211d9ca127ea9912f0cea4                       1   57.30   \n",
              "009d3b8641ccfde1b87a6cda1a2b1ab1                       3  280.57   \n",
              "01cff9d83b648ffb68d686f8c287866f                       6  272.00   \n",
              "01d9a9e79f6c83e7674574b38eedba7b                       2   70.77   \n",
              "\n",
              "                                  quantity_later    max_date  discounts_later  \\\n",
              "customer_id                                                                     \n",
              "00378459dfa86b57b6f582a316d12034        4.777778  2022-03-16              0.0   \n",
              "008f155e8c211d9ca127ea9912f0cea4       10.000000  2020-07-18              0.1   \n",
              "009d3b8641ccfde1b87a6cda1a2b1ab1        9.000000  2022-12-29              0.0   \n",
              "01cff9d83b648ffb68d686f8c287866f        4.666667  2022-07-03              0.0   \n",
              "01d9a9e79f6c83e7674574b38eedba7b        5.000000  2022-07-15              0.0   \n",
              "\n",
              "                                  total_purchases acquisition_date  \\\n",
              "customer_id                                                          \n",
              "00378459dfa86b57b6f582a316d12034               10       2019-07-11   \n",
              "008f155e8c211d9ca127ea9912f0cea4                2       2018-04-19   \n",
              "009d3b8641ccfde1b87a6cda1a2b1ab1                4       2022-12-11   \n",
              "01cff9d83b648ffb68d686f8c287866f                7       2019-06-21   \n",
              "01d9a9e79f6c83e7674574b38eedba7b                3       2021-09-28   \n",
              "\n",
              "                                  quantity_first campaign_first  \\\n",
              "customer_id                                                       \n",
              "00378459dfa86b57b6f582a316d12034               7           None   \n",
              "008f155e8c211d9ca127ea9912f0cea4               6     Newsletter   \n",
              "009d3b8641ccfde1b87a6cda1a2b1ab1               3           None   \n",
              "01cff9d83b648ffb68d686f8c287866f               2           None   \n",
              "01d9a9e79f6c83e7674574b38eedba7b               8           None   \n",
              "\n",
              "                                  repeat_customer  \n",
              "customer_id                                        \n",
              "00378459dfa86b57b6f582a316d12034                1  \n",
              "008f155e8c211d9ca127ea9912f0cea4                1  \n",
              "009d3b8641ccfde1b87a6cda1a2b1ab1                1  \n",
              "01cff9d83b648ffb68d686f8c287866f                1  \n",
              "01d9a9e79f6c83e7674574b38eedba7b                1  "
            ],
            "text/html": [
              "\n",
              "  <div id=\"df-c2f14fc7-78f5-4d75-ba22-add4d3349e04\">\n",
              "    <div class=\"colab-df-container\">\n",
              "      <div>\n",
              "<style scoped>\n",
              "    .dataframe tbody tr th:only-of-type {\n",
              "        vertical-align: middle;\n",
              "    }\n",
              "\n",
              "    .dataframe tbody tr th {\n",
              "        vertical-align: top;\n",
              "    }\n",
              "\n",
              "    .dataframe thead th {\n",
              "        text-align: right;\n",
              "    }\n",
              "</style>\n",
              "<table border=\"1\" class=\"dataframe\">\n",
              "  <thead>\n",
              "    <tr style=\"text-align: right;\">\n",
              "      <th></th>\n",
              "      <th>transactions_num_later</th>\n",
              "      <th>value</th>\n",
              "      <th>quantity_later</th>\n",
              "      <th>max_date</th>\n",
              "      <th>discounts_later</th>\n",
              "      <th>total_purchases</th>\n",
              "      <th>acquisition_date</th>\n",
              "      <th>quantity_first</th>\n",
              "      <th>campaign_first</th>\n",
              "      <th>repeat_customer</th>\n",
              "    </tr>\n",
              "    <tr>\n",
              "      <th>customer_id</th>\n",
              "      <th></th>\n",
              "      <th></th>\n",
              "      <th></th>\n",
              "      <th></th>\n",
              "      <th></th>\n",
              "      <th></th>\n",
              "      <th></th>\n",
              "      <th></th>\n",
              "      <th></th>\n",
              "      <th></th>\n",
              "    </tr>\n",
              "  </thead>\n",
              "  <tbody>\n",
              "    <tr>\n",
              "      <th>00378459dfa86b57b6f582a316d12034</th>\n",
              "      <td>9</td>\n",
              "      <td>469.08</td>\n",
              "      <td>4.777778</td>\n",
              "      <td>2022-03-16</td>\n",
              "      <td>0.0</td>\n",
              "      <td>10</td>\n",
              "      <td>2019-07-11</td>\n",
              "      <td>7</td>\n",
              "      <td>None</td>\n",
              "      <td>1</td>\n",
              "    </tr>\n",
              "    <tr>\n",
              "      <th>008f155e8c211d9ca127ea9912f0cea4</th>\n",
              "      <td>1</td>\n",
              "      <td>57.30</td>\n",
              "      <td>10.000000</td>\n",
              "      <td>2020-07-18</td>\n",
              "      <td>0.1</td>\n",
              "      <td>2</td>\n",
              "      <td>2018-04-19</td>\n",
              "      <td>6</td>\n",
              "      <td>Newsletter</td>\n",
              "      <td>1</td>\n",
              "    </tr>\n",
              "    <tr>\n",
              "      <th>009d3b8641ccfde1b87a6cda1a2b1ab1</th>\n",
              "      <td>3</td>\n",
              "      <td>280.57</td>\n",
              "      <td>9.000000</td>\n",
              "      <td>2022-12-29</td>\n",
              "      <td>0.0</td>\n",
              "      <td>4</td>\n",
              "      <td>2022-12-11</td>\n",
              "      <td>3</td>\n",
              "      <td>None</td>\n",
              "      <td>1</td>\n",
              "    </tr>\n",
              "    <tr>\n",
              "      <th>01cff9d83b648ffb68d686f8c287866f</th>\n",
              "      <td>6</td>\n",
              "      <td>272.00</td>\n",
              "      <td>4.666667</td>\n",
              "      <td>2022-07-03</td>\n",
              "      <td>0.0</td>\n",
              "      <td>7</td>\n",
              "      <td>2019-06-21</td>\n",
              "      <td>2</td>\n",
              "      <td>None</td>\n",
              "      <td>1</td>\n",
              "    </tr>\n",
              "    <tr>\n",
              "      <th>01d9a9e79f6c83e7674574b38eedba7b</th>\n",
              "      <td>2</td>\n",
              "      <td>70.77</td>\n",
              "      <td>5.000000</td>\n",
              "      <td>2022-07-15</td>\n",
              "      <td>0.0</td>\n",
              "      <td>3</td>\n",
              "      <td>2021-09-28</td>\n",
              "      <td>8</td>\n",
              "      <td>None</td>\n",
              "      <td>1</td>\n",
              "    </tr>\n",
              "  </tbody>\n",
              "</table>\n",
              "</div>\n",
              "      <button class=\"colab-df-convert\" onclick=\"convertToInteractive('df-c2f14fc7-78f5-4d75-ba22-add4d3349e04')\"\n",
              "              title=\"Convert this dataframe to an interactive table.\"\n",
              "              style=\"display:none;\">\n",
              "        \n",
              "  <svg xmlns=\"http://www.w3.org/2000/svg\" height=\"24px\"viewBox=\"0 0 24 24\"\n",
              "       width=\"24px\">\n",
              "    <path d=\"M0 0h24v24H0V0z\" fill=\"none\"/>\n",
              "    <path d=\"M18.56 5.44l.94 2.06.94-2.06 2.06-.94-2.06-.94-.94-2.06-.94 2.06-2.06.94zm-11 1L8.5 8.5l.94-2.06 2.06-.94-2.06-.94L8.5 2.5l-.94 2.06-2.06.94zm10 10l.94 2.06.94-2.06 2.06-.94-2.06-.94-.94-2.06-.94 2.06-2.06.94z\"/><path d=\"M17.41 7.96l-1.37-1.37c-.4-.4-.92-.59-1.43-.59-.52 0-1.04.2-1.43.59L10.3 9.45l-7.72 7.72c-.78.78-.78 2.05 0 2.83L4 21.41c.39.39.9.59 1.41.59.51 0 1.02-.2 1.41-.59l7.78-7.78 2.81-2.81c.8-.78.8-2.07 0-2.86zM5.41 20L4 18.59l7.72-7.72 1.47 1.35L5.41 20z\"/>\n",
              "  </svg>\n",
              "      </button>\n",
              "      \n",
              "  <style>\n",
              "    .colab-df-container {\n",
              "      display:flex;\n",
              "      flex-wrap:wrap;\n",
              "      gap: 12px;\n",
              "    }\n",
              "\n",
              "    .colab-df-convert {\n",
              "      background-color: #E8F0FE;\n",
              "      border: none;\n",
              "      border-radius: 50%;\n",
              "      cursor: pointer;\n",
              "      display: none;\n",
              "      fill: #1967D2;\n",
              "      height: 32px;\n",
              "      padding: 0 0 0 0;\n",
              "      width: 32px;\n",
              "    }\n",
              "\n",
              "    .colab-df-convert:hover {\n",
              "      background-color: #E2EBFA;\n",
              "      box-shadow: 0px 1px 2px rgba(60, 64, 67, 0.3), 0px 1px 3px 1px rgba(60, 64, 67, 0.15);\n",
              "      fill: #174EA6;\n",
              "    }\n",
              "\n",
              "    [theme=dark] .colab-df-convert {\n",
              "      background-color: #3B4455;\n",
              "      fill: #D2E3FC;\n",
              "    }\n",
              "\n",
              "    [theme=dark] .colab-df-convert:hover {\n",
              "      background-color: #434B5C;\n",
              "      box-shadow: 0px 1px 3px 1px rgba(0, 0, 0, 0.15);\n",
              "      filter: drop-shadow(0px 1px 2px rgba(0, 0, 0, 0.3));\n",
              "      fill: #FFFFFF;\n",
              "    }\n",
              "  </style>\n",
              "\n",
              "      <script>\n",
              "        const buttonEl =\n",
              "          document.querySelector('#df-c2f14fc7-78f5-4d75-ba22-add4d3349e04 button.colab-df-convert');\n",
              "        buttonEl.style.display =\n",
              "          google.colab.kernel.accessAllowed ? 'block' : 'none';\n",
              "\n",
              "        async function convertToInteractive(key) {\n",
              "          const element = document.querySelector('#df-c2f14fc7-78f5-4d75-ba22-add4d3349e04');\n",
              "          const dataTable =\n",
              "            await google.colab.kernel.invokeFunction('convertToInteractive',\n",
              "                                                     [key], {});\n",
              "          if (!dataTable) return;\n",
              "\n",
              "          const docLinkHtml = 'Like what you see? Visit the ' +\n",
              "            '<a target=\"_blank\" href=https://colab.research.google.com/notebooks/data_table.ipynb>data table notebook</a>'\n",
              "            + ' to learn more about interactive tables.';\n",
              "          element.innerHTML = '';\n",
              "          dataTable['output_type'] = 'display_data';\n",
              "          await google.colab.output.renderOutput(dataTable, element);\n",
              "          const docLink = document.createElement('div');\n",
              "          docLink.innerHTML = docLinkHtml;\n",
              "          element.appendChild(docLink);\n",
              "        }\n",
              "      </script>\n",
              "    </div>\n",
              "  </div>\n",
              "  "
            ]
          },
          "metadata": {},
          "execution_count": 57
        }
      ]
    },
    {
      "cell_type": "code",
      "source": [
        "later_transactions.groupby(\"campaign_first\")[[\"value\", \"transactions_num_later\"]].mean()"
      ],
      "metadata": {
        "colab": {
          "base_uri": "https://localhost:8080/",
          "height": 173
        },
        "id": "NcYoB64nUw24",
        "outputId": "2b3b2c56-54f2-4af8-b761-a89083f243cc"
      },
      "execution_count": 58,
      "outputs": [
        {
          "output_type": "execute_result",
          "data": {
            "text/plain": [
              "                     value  transactions_num_later\n",
              "campaign_first                                    \n",
              "Newsletter       97.434068                1.898305\n",
              "None            136.548127                2.449438\n",
              "Partner         208.322000                4.000000"
            ],
            "text/html": [
              "\n",
              "  <div id=\"df-3f303c26-6d68-48d8-9fea-3551eea8d9db\">\n",
              "    <div class=\"colab-df-container\">\n",
              "      <div>\n",
              "<style scoped>\n",
              "    .dataframe tbody tr th:only-of-type {\n",
              "        vertical-align: middle;\n",
              "    }\n",
              "\n",
              "    .dataframe tbody tr th {\n",
              "        vertical-align: top;\n",
              "    }\n",
              "\n",
              "    .dataframe thead th {\n",
              "        text-align: right;\n",
              "    }\n",
              "</style>\n",
              "<table border=\"1\" class=\"dataframe\">\n",
              "  <thead>\n",
              "    <tr style=\"text-align: right;\">\n",
              "      <th></th>\n",
              "      <th>value</th>\n",
              "      <th>transactions_num_later</th>\n",
              "    </tr>\n",
              "    <tr>\n",
              "      <th>campaign_first</th>\n",
              "      <th></th>\n",
              "      <th></th>\n",
              "    </tr>\n",
              "  </thead>\n",
              "  <tbody>\n",
              "    <tr>\n",
              "      <th>Newsletter</th>\n",
              "      <td>97.434068</td>\n",
              "      <td>1.898305</td>\n",
              "    </tr>\n",
              "    <tr>\n",
              "      <th>None</th>\n",
              "      <td>136.548127</td>\n",
              "      <td>2.449438</td>\n",
              "    </tr>\n",
              "    <tr>\n",
              "      <th>Partner</th>\n",
              "      <td>208.322000</td>\n",
              "      <td>4.000000</td>\n",
              "    </tr>\n",
              "  </tbody>\n",
              "</table>\n",
              "</div>\n",
              "      <button class=\"colab-df-convert\" onclick=\"convertToInteractive('df-3f303c26-6d68-48d8-9fea-3551eea8d9db')\"\n",
              "              title=\"Convert this dataframe to an interactive table.\"\n",
              "              style=\"display:none;\">\n",
              "        \n",
              "  <svg xmlns=\"http://www.w3.org/2000/svg\" height=\"24px\"viewBox=\"0 0 24 24\"\n",
              "       width=\"24px\">\n",
              "    <path d=\"M0 0h24v24H0V0z\" fill=\"none\"/>\n",
              "    <path d=\"M18.56 5.44l.94 2.06.94-2.06 2.06-.94-2.06-.94-.94-2.06-.94 2.06-2.06.94zm-11 1L8.5 8.5l.94-2.06 2.06-.94-2.06-.94L8.5 2.5l-.94 2.06-2.06.94zm10 10l.94 2.06.94-2.06 2.06-.94-2.06-.94-.94-2.06-.94 2.06-2.06.94z\"/><path d=\"M17.41 7.96l-1.37-1.37c-.4-.4-.92-.59-1.43-.59-.52 0-1.04.2-1.43.59L10.3 9.45l-7.72 7.72c-.78.78-.78 2.05 0 2.83L4 21.41c.39.39.9.59 1.41.59.51 0 1.02-.2 1.41-.59l7.78-7.78 2.81-2.81c.8-.78.8-2.07 0-2.86zM5.41 20L4 18.59l7.72-7.72 1.47 1.35L5.41 20z\"/>\n",
              "  </svg>\n",
              "      </button>\n",
              "      \n",
              "  <style>\n",
              "    .colab-df-container {\n",
              "      display:flex;\n",
              "      flex-wrap:wrap;\n",
              "      gap: 12px;\n",
              "    }\n",
              "\n",
              "    .colab-df-convert {\n",
              "      background-color: #E8F0FE;\n",
              "      border: none;\n",
              "      border-radius: 50%;\n",
              "      cursor: pointer;\n",
              "      display: none;\n",
              "      fill: #1967D2;\n",
              "      height: 32px;\n",
              "      padding: 0 0 0 0;\n",
              "      width: 32px;\n",
              "    }\n",
              "\n",
              "    .colab-df-convert:hover {\n",
              "      background-color: #E2EBFA;\n",
              "      box-shadow: 0px 1px 2px rgba(60, 64, 67, 0.3), 0px 1px 3px 1px rgba(60, 64, 67, 0.15);\n",
              "      fill: #174EA6;\n",
              "    }\n",
              "\n",
              "    [theme=dark] .colab-df-convert {\n",
              "      background-color: #3B4455;\n",
              "      fill: #D2E3FC;\n",
              "    }\n",
              "\n",
              "    [theme=dark] .colab-df-convert:hover {\n",
              "      background-color: #434B5C;\n",
              "      box-shadow: 0px 1px 3px 1px rgba(0, 0, 0, 0.15);\n",
              "      filter: drop-shadow(0px 1px 2px rgba(0, 0, 0, 0.3));\n",
              "      fill: #FFFFFF;\n",
              "    }\n",
              "  </style>\n",
              "\n",
              "      <script>\n",
              "        const buttonEl =\n",
              "          document.querySelector('#df-3f303c26-6d68-48d8-9fea-3551eea8d9db button.colab-df-convert');\n",
              "        buttonEl.style.display =\n",
              "          google.colab.kernel.accessAllowed ? 'block' : 'none';\n",
              "\n",
              "        async function convertToInteractive(key) {\n",
              "          const element = document.querySelector('#df-3f303c26-6d68-48d8-9fea-3551eea8d9db');\n",
              "          const dataTable =\n",
              "            await google.colab.kernel.invokeFunction('convertToInteractive',\n",
              "                                                     [key], {});\n",
              "          if (!dataTable) return;\n",
              "\n",
              "          const docLinkHtml = 'Like what you see? Visit the ' +\n",
              "            '<a target=\"_blank\" href=https://colab.research.google.com/notebooks/data_table.ipynb>data table notebook</a>'\n",
              "            + ' to learn more about interactive tables.';\n",
              "          element.innerHTML = '';\n",
              "          dataTable['output_type'] = 'display_data';\n",
              "          await google.colab.output.renderOutput(dataTable, element);\n",
              "          const docLink = document.createElement('div');\n",
              "          docLink.innerHTML = docLinkHtml;\n",
              "          element.appendChild(docLink);\n",
              "        }\n",
              "      </script>\n",
              "    </div>\n",
              "  </div>\n",
              "  "
            ]
          },
          "metadata": {},
          "execution_count": 58
        }
      ]
    },
    {
      "cell_type": "markdown",
      "source": [
        "At first glance it looks like, customers acquired with a *Newletter* coupon indeed create less value in later transactions and the column *transactions_num_later* indicates that they do so due to less frequent transactions.\n",
        "\n",
        "**However**: There might be a bias here. It might happen that *organic* customers have longer tenure or retention (i. e. joined earlier) than customers acquired with the *Newsletter* coupon. We thus have to correct for potential differences in the length of the customer lifetime duration. "
      ],
      "metadata": {
        "id": "IhVDCNheZbsL"
      }
    },
    {
      "cell_type": "markdown",
      "source": [
        "### Correcting for Different Lifetime Lengths\n",
        "\n",
        "There are different options to do so, the simplest being to calculate the duration between the acquisition date and the date of the last transaction and divide the value by it. However, this opens up the possibility of another bias: customers who joined very late did not have the ability to accumulate a long lifetime, still their short lifetime would get weighted more strongly when dividing by a smaller number.\n",
        "\n",
        "The second option would be to remove, e. g. the most recent year from the data and thua remove the bias created by more recent customers. This however would also reduce the number of customers to analyze.\n",
        "\n",
        "We therefore chose a third option: divide the value (and # of transactions) by the remaining time left in the data to observe the customer. \n",
        "\n",
        "Example: a customer males their most recent transaction in the last week we observe. Wenthen divide their total value by 1 (week left), because we now, they are still an active customer. Correspondingly, a customer who has not made a transaction for 50 weeks has a much lower corrected value, as their chance of still being active is much lower."
      ],
      "metadata": {
        "id": "s69rxKG8d0kf"
      }
    },
    {
      "cell_type": "code",
      "source": [
        "later_transactions[\"remaining_weeks\"] = (pd.to_datetime(later_transactions[\"max_date\"].max()) - pd.to_datetime(later_transactions[\"max_date\"])).dt.days//7 +1"
      ],
      "metadata": {
        "id": "Rw7ti6Kw0GXa"
      },
      "execution_count": 59,
      "outputs": []
    },
    {
      "cell_type": "code",
      "source": [
        "later_transactions[\"value_corrected\"] = later_transactions['value']/later_transactions[\"remaining_weeks\"]\n",
        "later_transactions[\"transactions_num_later_corrected\"] = later_transactions[\"transactions_num_later\"]/later_transactions[\"remaining_weeks\"]"
      ],
      "metadata": {
        "id": "R0YKFP2hfOBY"
      },
      "execution_count": 60,
      "outputs": []
    },
    {
      "cell_type": "markdown",
      "source": [
        "Above we calculated the remaining weeks in the data per customer (the minimum being one week) and divided the variables of interest by that value. We indicate the new values by the suffix *_corrected*."
      ],
      "metadata": {
        "id": "WbV5AkSriTrh"
      }
    },
    {
      "cell_type": "code",
      "source": [
        "result = later_transactions.groupby(\"campaign_first\")[[\"value_corrected\", \"transactions_num_later_corrected\"]].mean().transpose()\n",
        "result"
      ],
      "metadata": {
        "colab": {
          "base_uri": "https://localhost:8080/",
          "height": 111
        },
        "id": "0zPmQ_3rf69O",
        "outputId": "60fce7cf-5484-472f-ccf5-ef5926426b36"
      },
      "execution_count": 61,
      "outputs": [
        {
          "output_type": "execute_result",
          "data": {
            "text/plain": [
              "campaign_first                    Newsletter       None    Partner\n",
              "value_corrected                    12.760600  30.518159  61.070850\n",
              "transactions_num_later_corrected    0.236557   0.539741   1.040564"
            ],
            "text/html": [
              "\n",
              "  <div id=\"df-1bb928ed-be80-49b6-86e3-1fed198b003d\">\n",
              "    <div class=\"colab-df-container\">\n",
              "      <div>\n",
              "<style scoped>\n",
              "    .dataframe tbody tr th:only-of-type {\n",
              "        vertical-align: middle;\n",
              "    }\n",
              "\n",
              "    .dataframe tbody tr th {\n",
              "        vertical-align: top;\n",
              "    }\n",
              "\n",
              "    .dataframe thead th {\n",
              "        text-align: right;\n",
              "    }\n",
              "</style>\n",
              "<table border=\"1\" class=\"dataframe\">\n",
              "  <thead>\n",
              "    <tr style=\"text-align: right;\">\n",
              "      <th>campaign_first</th>\n",
              "      <th>Newsletter</th>\n",
              "      <th>None</th>\n",
              "      <th>Partner</th>\n",
              "    </tr>\n",
              "  </thead>\n",
              "  <tbody>\n",
              "    <tr>\n",
              "      <th>value_corrected</th>\n",
              "      <td>12.760600</td>\n",
              "      <td>30.518159</td>\n",
              "      <td>61.070850</td>\n",
              "    </tr>\n",
              "    <tr>\n",
              "      <th>transactions_num_later_corrected</th>\n",
              "      <td>0.236557</td>\n",
              "      <td>0.539741</td>\n",
              "      <td>1.040564</td>\n",
              "    </tr>\n",
              "  </tbody>\n",
              "</table>\n",
              "</div>\n",
              "      <button class=\"colab-df-convert\" onclick=\"convertToInteractive('df-1bb928ed-be80-49b6-86e3-1fed198b003d')\"\n",
              "              title=\"Convert this dataframe to an interactive table.\"\n",
              "              style=\"display:none;\">\n",
              "        \n",
              "  <svg xmlns=\"http://www.w3.org/2000/svg\" height=\"24px\"viewBox=\"0 0 24 24\"\n",
              "       width=\"24px\">\n",
              "    <path d=\"M0 0h24v24H0V0z\" fill=\"none\"/>\n",
              "    <path d=\"M18.56 5.44l.94 2.06.94-2.06 2.06-.94-2.06-.94-.94-2.06-.94 2.06-2.06.94zm-11 1L8.5 8.5l.94-2.06 2.06-.94-2.06-.94L8.5 2.5l-.94 2.06-2.06.94zm10 10l.94 2.06.94-2.06 2.06-.94-2.06-.94-.94-2.06-.94 2.06-2.06.94z\"/><path d=\"M17.41 7.96l-1.37-1.37c-.4-.4-.92-.59-1.43-.59-.52 0-1.04.2-1.43.59L10.3 9.45l-7.72 7.72c-.78.78-.78 2.05 0 2.83L4 21.41c.39.39.9.59 1.41.59.51 0 1.02-.2 1.41-.59l7.78-7.78 2.81-2.81c.8-.78.8-2.07 0-2.86zM5.41 20L4 18.59l7.72-7.72 1.47 1.35L5.41 20z\"/>\n",
              "  </svg>\n",
              "      </button>\n",
              "      \n",
              "  <style>\n",
              "    .colab-df-container {\n",
              "      display:flex;\n",
              "      flex-wrap:wrap;\n",
              "      gap: 12px;\n",
              "    }\n",
              "\n",
              "    .colab-df-convert {\n",
              "      background-color: #E8F0FE;\n",
              "      border: none;\n",
              "      border-radius: 50%;\n",
              "      cursor: pointer;\n",
              "      display: none;\n",
              "      fill: #1967D2;\n",
              "      height: 32px;\n",
              "      padding: 0 0 0 0;\n",
              "      width: 32px;\n",
              "    }\n",
              "\n",
              "    .colab-df-convert:hover {\n",
              "      background-color: #E2EBFA;\n",
              "      box-shadow: 0px 1px 2px rgba(60, 64, 67, 0.3), 0px 1px 3px 1px rgba(60, 64, 67, 0.15);\n",
              "      fill: #174EA6;\n",
              "    }\n",
              "\n",
              "    [theme=dark] .colab-df-convert {\n",
              "      background-color: #3B4455;\n",
              "      fill: #D2E3FC;\n",
              "    }\n",
              "\n",
              "    [theme=dark] .colab-df-convert:hover {\n",
              "      background-color: #434B5C;\n",
              "      box-shadow: 0px 1px 3px 1px rgba(0, 0, 0, 0.15);\n",
              "      filter: drop-shadow(0px 1px 2px rgba(0, 0, 0, 0.3));\n",
              "      fill: #FFFFFF;\n",
              "    }\n",
              "  </style>\n",
              "\n",
              "      <script>\n",
              "        const buttonEl =\n",
              "          document.querySelector('#df-1bb928ed-be80-49b6-86e3-1fed198b003d button.colab-df-convert');\n",
              "        buttonEl.style.display =\n",
              "          google.colab.kernel.accessAllowed ? 'block' : 'none';\n",
              "\n",
              "        async function convertToInteractive(key) {\n",
              "          const element = document.querySelector('#df-1bb928ed-be80-49b6-86e3-1fed198b003d');\n",
              "          const dataTable =\n",
              "            await google.colab.kernel.invokeFunction('convertToInteractive',\n",
              "                                                     [key], {});\n",
              "          if (!dataTable) return;\n",
              "\n",
              "          const docLinkHtml = 'Like what you see? Visit the ' +\n",
              "            '<a target=\"_blank\" href=https://colab.research.google.com/notebooks/data_table.ipynb>data table notebook</a>'\n",
              "            + ' to learn more about interactive tables.';\n",
              "          element.innerHTML = '';\n",
              "          dataTable['output_type'] = 'display_data';\n",
              "          await google.colab.output.renderOutput(dataTable, element);\n",
              "          const docLink = document.createElement('div');\n",
              "          docLink.innerHTML = docLinkHtml;\n",
              "          element.appendChild(docLink);\n",
              "        }\n",
              "      </script>\n",
              "    </div>\n",
              "  </div>\n",
              "  "
            ]
          },
          "metadata": {},
          "execution_count": 61
        }
      ]
    },
    {
      "cell_type": "markdown",
      "source": [
        "Displaying the mean corrected value and mean corrected later transactions, we see that also after correcting for the bias, "
      ],
      "metadata": {
        "id": "ddpPJe_tlgtO"
      }
    },
    {
      "cell_type": "markdown",
      "source": [
        "## Interpretation"
      ],
      "metadata": {
        "id": "QKilIzP_dqPA"
      }
    },
    {
      "cell_type": "markdown",
      "source": [
        "Recall our initial problem: If we acquire customers with the help of a promotion, it is very likely that we achieve short-term boosts of sales and maybe even customer acquisition. But we do not know the value of the customers acquired.\n",
        "\n",
        "In this analysis, we have shown with a simple example how to derive the value from customers acquired via a coupon promotion vs. organic customers."
      ],
      "metadata": {
        "id": "7cjt6lhzvsA_"
      }
    },
    {
      "cell_type": "code",
      "source": [
        "result.divide(result.max(axis = 1), axis = 0).plot(kind = \"bar\")"
      ],
      "metadata": {
        "colab": {
          "base_uri": "https://localhost:8080/",
          "height": 443
        },
        "id": "2FaBwFu8W636",
        "outputId": "e35e010d-a49b-4644-b75e-a230f0ea4eb4"
      },
      "execution_count": 62,
      "outputs": [
        {
          "output_type": "execute_result",
          "data": {
            "text/plain": [
              "<matplotlib.axes._subplots.AxesSubplot at 0x7f103d1f4c40>"
            ]
          },
          "metadata": {},
          "execution_count": 62
        },
        {
          "output_type": "display_data",
          "data": {
            "text/plain": [
              "<Figure size 432x288 with 1 Axes>"
            ],
            "image/png": "[encoded data removed]"
          },
          "metadata": {
            "needs_background": "light"
          }
        }
      ]
    },
    {
      "cell_type": "markdown",
      "source": [
        "It appears that the *Partner* coupon is associated with the highest values, i. e. twice as high as *organic* customer. The the association exists for the number of transactions, which might serve as an explanation for the higher value: these customers' higher value might stem from more transactions. The *Newsletter* coupon shows the opposite relationship: The customers acquired with a newsletter sign-up coupon appear to only create half the value compared to the organic customers.\n",
        "\n",
        "For the company it thus makes sense to increase the amount of the Partner coupons or revisit the way they issue the Newsletter coupon."
      ],
      "metadata": {
        "id": "7Gl3h7_eYlhZ"
      }
    },
    {
      "cell_type": "markdown",
      "source": [
        "## Next Steps\n",
        "\n",
        "There are multiple avenues to continue analysis here. We could...\n",
        "\n",
        "1. dive more deeply into the differences between the customers and their acquisition characteristics, e. g. consider the season in which they were acquired, the order amount of the first transaction or other customer- or transaction-related factors (we do not have available here).\n",
        "2. decompose customer repeat behavior further. For this we could deploy statistical models to derive the probability to make a repeat purchase, the reasons for different values (e. g. higher discounts or less transactions).\n",
        "\n",
        "We will cover these two topics in the other sessions on Coupon Value Analysis."
      ],
      "metadata": {
        "id": "3BSBjDwtZj4m"
      }
    },
    {
      "cell_type": "code",
      "source": [
        "later_transactions.to_csv(\"later_transactions.csv\")"
      ],
      "metadata": {
        "id": "iG1NNEdEbeFy"
      },
      "execution_count": 63,
      "outputs": []
    }
  ]
}