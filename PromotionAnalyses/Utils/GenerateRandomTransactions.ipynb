{
  "cells": [
    {
      "cell_type": "markdown",
      "metadata": {
        "id": "view-in-github",
        "colab_type": "text"
      },
      "source": [
        "<a href=\"https://colab.research.google.com/github/tim-sadler/tutorials/blob/main/PromotionAnalyses/Utils/GenerateRandomTransactions.ipynb\" target=\"_parent\"><img src=\"https://colab.research.google.com/assets/colab-badge.svg\" alt=\"Open In Colab\"/></a>"
      ]
    },
    {
      "cell_type": "code",
      "execution_count": 25,
      "metadata": {
        "colab": {
          "base_uri": "https://localhost:8080/"
        },
        "id": "P8GLLf8RDNFT",
        "outputId": "08e0e19c-57b0-4e86-d30f-ba38cea58c51"
      },
      "outputs": [
        {
          "output_type": "stream",
          "name": "stdout",
          "text": [
            "Looking in indexes: https://pypi.org/simple, https://us-python.pkg.dev/colab-wheels/public/simple/\n",
            "Requirement already satisfied: faker in /usr/local/lib/python3.8/dist-packages (17.0.0)\n",
            "Requirement already satisfied: python-dateutil>=2.4 in /usr/local/lib/python3.8/dist-packages (from faker) (2.8.2)\n",
            "Requirement already satisfied: six>=1.5 in /usr/local/lib/python3.8/dist-packages (from python-dateutil>=2.4->faker) (1.15.0)\n"
          ]
        }
      ],
      "source": [
        "!pip install faker\n",
        "from faker import Faker\n",
        "\n",
        "from hashlib import md5\n",
        "import random\n",
        "import string\n",
        "from random import randrange\n",
        "\n",
        "import pandas as pd\n",
        "import numpy as np"
      ]
    },
    {
      "cell_type": "code",
      "execution_count": 26,
      "metadata": {
        "id": "YvLxob2kDW1_"
      },
      "outputs": [],
      "source": [
        "no_of_customers = 1000\n",
        "\n",
        "start_date = pd.to_datetime(\"2018-01-01\")\n",
        "end_date = pd.to_datetime(\"2022-12-31\")"
      ]
    },
    {
      "cell_type": "code",
      "execution_count": 27,
      "metadata": {
        "id": "7nzTqZh6RXjg"
      },
      "outputs": [],
      "source": [
        "fake = Faker()\n",
        "\n",
        "customer_ids = [md5(fake.name().encode()).hexdigest() for i in range(0,no_of_customers)]\n",
        "\n",
        "start_end_range = pd.Series(pd.date_range(start_date, end_date, freq = \"d\"))\n",
        "first_purchases = start_end_range.sample(no_of_customers).reset_index(drop = True)\n",
        "\n",
        "total_purchases = list(np.ceil(np.random.chisquare(2, no_of_customers)).astype(int))\n",
        "\n",
        "customer_df = pd.DataFrame({\"customer_id\": customer_ids, \"acquisition_date\": first_purchases, \"total_purchases\": total_purchases, \"date\": first_purchases})\n",
        "\n",
        "transactions_df = pd.DataFrame()\n",
        "\n",
        "for customer in customer_df.itertuples():\n",
        "  temp_range = pd.Series(pd.date_range(customer.acquisition_date,end_date))\n",
        "  temp_df = pd.DataFrame()\n",
        "  temp_df[\"date\"] = temp_range.sample(customer.total_purchases, replace = True)\n",
        "  temp_df[\"customer_id\"] = customer.customer_id\n",
        "  temp_df[\"acquisition_date\"] = customer.acquisition_date\n",
        "  temp_df[\"total_purchases\"] = customer.total_purchases\n",
        "  temp_df = temp_df[customer_df.columns]\n",
        "  transactions_df = pd.concat([transactions_df, temp_df]).reset_index(drop = True)\n",
        "\n",
        "transactions_df[\"quantity\"] = np.clip(np.ceil(np.random.normal(5, 3, len(transactions_df))), 1, None).astype(int)\n",
        "transactions_df[\"revenue\"] = round(np.random.randint(500, 1500, len(transactions_df))/100 * transactions_df['quantity'],2)\n",
        "\n",
        "transactions_df = transactions_df.sort_values([\"customer_id\", \"date\"]).reset_index(drop = True)\n",
        "transactions_df.to_csv(\"transactions.csv\", index = False)\n"
      ]
    },
    {
      "cell_type": "code",
      "execution_count": 28,
      "metadata": {
        "id": "6jTxcaoHMqDz"
      },
      "outputs": [],
      "source": [
        "def random_string(length) -> str:\n",
        "  letters = string.ascii_uppercase\n",
        "  result = ''.join(random.choice(letters) for i in range(length))\n",
        "  return result"
      ]
    },
    {
      "cell_type": "code",
      "execution_count": 29,
      "metadata": {
        "id": "K0_PJ31SV4E5"
      },
      "outputs": [],
      "source": [
        "def add_ongoing_campaign(df: pd.DataFrame, no_of_recipients: int, fraction: float, campaign_name: str, discount: float):\n",
        "  \n",
        "  draw_from_customers = np.ceil(no_of_customers*fraction).astype(int)\n",
        "  \n",
        "  remaining_recipients = no_of_recipients-draw_from_customers\n",
        "  \n",
        "  recipients = [md5(fake.name().encode()).hexdigest() for i in range(remaining_recipients)]\n",
        "  \n",
        "  active_recipients = df.groupby(\"customer_id\")[[\"revenue\"]].sum().sort_values(\"revenue\")\n",
        "  active_recipients[\"weight\"] = 1\n",
        "  active_recipients[\"weight\"] = 1/active_recipients[\"weight\"].cumsum()\n",
        "  active_recipients = active_recipients.sample(draw_from_customers, weights=active_recipients[\"weight\"]).index\n",
        "  \n",
        "  if \"campaign\" in df.columns and \"coupon_code\" in df.columns and \"discount\" in df.columns:\n",
        "    df[\"campaign\"] = np.where(df[\"customer_id\"].isin(active_recipients), campaign_name, df[\"campaign\"])\n",
        "    df[\"coupon_code\"] = np.where(df[\"customer_id\"].isin(active_recipients), random_string(6), df[\"coupon_code\"])\n",
        "    df[\"discount\"] = np.where(df[\"customer_id\"].isin(active_recipients), discount, df[\"discount\"])\n",
        "  else:\n",
        "    df[\"campaign\"] = np.where(df[\"customer_id\"].isin(active_recipients), campaign_name, np.nan)\n",
        "    df[\"coupon_code\"] = np.where(df[\"customer_id\"].isin(active_recipients), random_string(6), np.nan)\n",
        "    df[\"discount\"] = np.where(df[\"customer_id\"].isin(active_recipients), discount, 0)\n",
        "  \n",
        "  all_recipients = [*recipients, *active_recipients]\n",
        "  \n",
        "  return all_recipients, df"
      ]
    },
    {
      "cell_type": "code",
      "execution_count": 30,
      "metadata": {
        "id": "Y-IoJAGsb-t4"
      },
      "outputs": [],
      "source": [
        "def add_temporary_campaign(df: pd.DataFrame, no_of_recipients: int, fraction: float, campaign_name: str, discount: float, campaign_start: str, campaign_end: str):\n",
        "  \n",
        "  draw_from_customers = np.ceil(len(df[(df[\"date\"] >= pd.to_datetime(campaign_start)) & (df[\"date\"] <= pd.to_datetime(campaign_end))])*fraction).astype(int)\n",
        "  \n",
        "  remaining_recipients = no_of_recipients-draw_from_customers\n",
        "  \n",
        "  recipients = [md5(fake.name().encode()).hexdigest() for i in range(remaining_recipients)]\n",
        "  \n",
        "  active_recipients = df[(df[\"date\"] >= pd.to_datetime(campaign_start)) & (df[\"date\"] <= pd.to_datetime(campaign_end))].groupby(\"customer_id\")[[\"revenue\"]].sum().sort_values(\"revenue\")\n",
        "  active_recipients[\"weight\"] = 1\n",
        "  active_recipients[\"weight\"] = 1/active_recipients[\"weight\"].cumsum()\n",
        "  active_recipients = active_recipients.sample(draw_from_customers, weights=active_recipients[\"weight\"]).index\n",
        "  \n",
        "  if \"campaign\" in df.columns and \"coupon_code\" in df.columns and \"discount\" in df.columns:\n",
        "    df[\"campaign\"] = np.where((df[\"customer_id\"].isin(active_recipients)) & (df[\"date\"] >= pd.to_datetime(campaign_start)) & (df[\"date\"] <= pd.to_datetime(campaign_end)), campaign_name, df[\"campaign\"])\n",
        "    df[\"coupon_code\"] = np.where((df[\"customer_id\"].isin(active_recipients)) & (df[\"date\"] >= pd.to_datetime(campaign_start)) & (df[\"date\"] <= pd.to_datetime(campaign_end)), random_string(6), df[\"coupon_code\"])\n",
        "    df[\"discount\"] = np.where((df[\"customer_id\"].isin(active_recipients)) & (df[\"date\"] >= pd.to_datetime(campaign_start)) & (df[\"date\"] <= pd.to_datetime(campaign_end)), discount, df[\"discount\"])\n",
        "  else:\n",
        "    df[\"campaign\"] = np.where((df[\"customer_id\"].isin(active_recipients)) & (df[\"date\"] >= pd.to_datetime(campaign_start)) & (df[\"date\"] <= pd.to_datetime(campaign_end)), campaign_name, np.nan)\n",
        "    df[\"coupon_code\"] = np.where((df[\"customer_id\"].isin(active_recipients)) & (df[\"date\"] >= pd.to_datetime(campaign_start)) & (df[\"date\"] <= pd.to_datetime(campaign_end)), random_string(6), np.nan)\n",
        "    df[\"discount\"] = np.where((df[\"customer_id\"].isin(active_recipients)) & (df[\"date\"] >= pd.to_datetime(campaign_start)) & (df[\"date\"] <= pd.to_datetime(campaign_end)), discount, 0)\n",
        "  \n",
        "  all_recipients = [*recipients, *active_recipients]\n",
        "  \n",
        "  return all_recipients, df"
      ]
    },
    {
      "cell_type": "code",
      "execution_count": 31,
      "metadata": {
        "id": "OFgY3CyUElEd"
      },
      "outputs": [],
      "source": [
        "all_newsletter_recipients, transactions_df = add_ongoing_campaign(transactions_df, 500, 0.2, \"Newsletter\", 0.1)"
      ]
    },
    {
      "cell_type": "code",
      "source": [
        "all_partner_recipients, transactions_df = add_ongoing_campaign(transactions_df, 200, 0.05, \"Partner\", 0.15)"
      ],
      "metadata": {
        "id": "c8HImwRDjrV1"
      },
      "execution_count": 32,
      "outputs": []
    },
    {
      "cell_type": "code",
      "source": [
        "all_valentines21_recipients, transactions_df = add_temporary_campaign(transactions_df, 400, 0.07, \"Valentines2021\", 0.20, \"2021-02-14\", \"2021-02-14\")"
      ],
      "metadata": {
        "id": "3oiA-26-jl3C"
      },
      "execution_count": 33,
      "outputs": []
    },
    {
      "cell_type": "code",
      "execution_count": 34,
      "metadata": {
        "id": "1hDGAgVDc_3f"
      },
      "outputs": [],
      "source": [
        "all_valentines22_recipients, transactions_df = add_temporary_campaign(transactions_df, 500, 0.1, \"Valentines2022\", 0.25, \"2022-02-14\", \"2022-02-14\")"
      ]
    },
    {
      "cell_type": "code",
      "execution_count": 35,
      "metadata": {
        "id": "tdsMK84_gduD"
      },
      "outputs": [],
      "source": [
        "transactions_df.to_csv(\"transactions_with_coupons.csv\", index = False)"
      ]
    },
    {
      "cell_type": "code",
      "execution_count": 36,
      "metadata": {
        "colab": {
          "base_uri": "https://localhost:8080/"
        },
        "id": "eOzqp1hMdWhL",
        "outputId": "70cce6af-c442-4ab8-a3ae-1eb2a9f952f7"
      },
      "outputs": [
        {
          "output_type": "execute_result",
          "data": {
            "text/plain": [
              "campaign\n",
              "Newsletter        0.10\n",
              "Partner           0.15\n",
              "Valentines2021    0.20\n",
              "Valentines2022    0.25\n",
              "nan               0.00\n",
              "Name: discount, dtype: float64"
            ]
          },
          "metadata": {},
          "execution_count": 36
        }
      ],
      "source": [
        "transactions_df.groupby(\"campaign\")[\"discount\"].max()"
      ]
    }
  ],
  "metadata": {
    "colab": {
      "provenance": [],
      "authorship_tag": "ABX9TyPn54gPcSvdXdfqAXBGWBPK",
      "include_colab_link": true
    },
    "kernelspec": {
      "display_name": "Python 3",
      "name": "python3"
    },
    "language_info": {
      "name": "python"
    }
  },
  "nbformat": 4,
  "nbformat_minor": 0
}