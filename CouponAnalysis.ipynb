{
  "nbformat": 4,
  "nbformat_minor": 0,
  "metadata": {
    "colab": {
      "provenance": [],
      "authorship_tag": "ABX9TyMGIJ9GhD+y4iAvGoubNiL/",
      "include_colab_link": true
    },
    "kernelspec": {
      "name": "python3",
      "display_name": "Python 3"
    },
    "language_info": {
      "name": "python"
    }
  },
  "cells": [
    {
      "cell_type": "markdown",
      "metadata": {
        "id": "view-in-github",
        "colab_type": "text"
      },
      "source": [
        "<a href=\"https://colab.research.google.com/github/tim-sadler/tutorials/blob/main/CouponAnalysis.ipynb\" target=\"_parent\"><img src=\"https://colab.research.google.com/assets/colab-badge.svg\" alt=\"Open In Colab\"/></a>"
      ]
    },
    {
      "cell_type": "code",
      "source": [
        "import pandas as pd"
      ],
      "metadata": {
        "id": "sO33wlGjqfAT"
      },
      "execution_count": 37,
      "outputs": []
    },
    {
      "cell_type": "markdown",
      "source": [
        "# Promotion Analysis: The effect of coupons on customer value"
      ],
      "metadata": {
        "id": "zEcDNCQ2mmIe"
      }
    },
    {
      "cell_type": "markdown",
      "source": [
        "## Why this analysis is relevant\n",
        "\n",
        "Companies, especially e-commerce business regularly run campaigns to attract customers or boost sales. Coupons are among the most favored promotional instruments, as they have important features:\n",
        "\n",
        "- they can be sent out only to certain customers, if desired, and\n",
        "- the customer has to actively use the coupon code in the checkout process, which is why many more customers are exposed to the campaign than end up actually getting the (from the business perspectice) expensive discounts.\n",
        "\n",
        "However, coupons - really any kind of promotion - comes with a huge disadvantage:\n",
        "\n",
        "**They might be boosting short-term sales, but they are also likely to attract \"discount-prone\" customers, that only but when they see a promotion.**\n",
        "\n",
        "Therefore, the question is, how valuable are the customers we acquire with sich coupons? In this post I show a simple procedure to analyze this question and use the results to improve usage of promotions for customer acquisition."
      ],
      "metadata": {
        "id": "KnjUTboMm1hq"
      }
    },
    {
      "cell_type": "markdown",
      "source": [
        "## Research Question\n",
        "\n",
        "The RQ behind this analysis is the following: \n",
        "\n",
        "*What is the long-term value of customers acquired with coupons vs. organically acquired customers?*\n",
        "\n",
        "Our a-priori expectation of hypothesis would be: *These customers are less valuable (in terms of revenue generated) than organic customers*."
      ],
      "metadata": {
        "id": "bP388CDyo-v4"
      }
    },
    {
      "cell_type": "markdown",
      "source": [
        "## Our Example Case\n",
        "\n",
        "Let's assume we are running this example for the case of an online store for non-food fast-moving consumer goods. let's assume they sell soaps, candles, socks and and other kind of items in the price range of single to small double digit figures.\n",
        "\n",
        "Our customers can only purchase if they are signed-in or have an email address provided. Like with many e-commerce platform, we can obtain transactional data like this:\n",
        "\n"
      ],
      "metadata": {
        "id": "FNOScCT4pmtC"
      }
    },
    {
      "cell_type": "code",
      "execution_count": 38,
      "metadata": {
        "id": "9YphvcUFmlm8"
      },
      "outputs": [],
      "source": [
        "transactions = pd.read_csv(\"transactions_with_coupons.csv\", index_col = False)"
      ]
    },
    {
      "cell_type": "code",
      "source": [
        "transactions.head()"
      ],
      "metadata": {
        "colab": {
          "base_uri": "https://localhost:8080/",
          "height": 353
        },
        "id": "EEVuvfpLsfLe",
        "outputId": "e405c36d-6c1d-4b81-c630-78dffe9fe990"
      },
      "execution_count": 39,
      "outputs": [
        {
          "output_type": "execute_result",
          "data": {
            "text/plain": [
              "                        customer_id acquisition_date  total_purchases  \\\n",
              "0  00a56493e7dad5c7a0ce38f33fb79a65       2022-01-26                3   \n",
              "1  00a56493e7dad5c7a0ce38f33fb79a65       2022-01-26                3   \n",
              "2  00a56493e7dad5c7a0ce38f33fb79a65       2022-01-26                3   \n",
              "3  00a9a3d7b33d3dcc0b6898d0b342495f       2018-03-03                1   \n",
              "4  00e246a83cfc888460c786b4664e44b1       2022-02-13               11   \n",
              "\n",
              "         date  quantity  revenue campaign coupon_code  discount  \n",
              "0  2022-03-24         5    36.65      NaN         NaN       0.0  \n",
              "1  2022-08-12         7   100.24      NaN         NaN       0.0  \n",
              "2  2022-12-08        11   146.52      NaN         NaN       0.0  \n",
              "3  2020-04-18        10   146.60      NaN         NaN       0.0  \n",
              "4  2022-03-07         2    17.30      NaN         NaN       0.0  "
            ],
            "text/html": [
              "\n",
              "  <div id=\"df-ddc9f5a8-2014-4364-9857-ac6756a7139c\">\n",
              "    <div class=\"colab-df-container\">\n",
              "      <div>\n",
              "<style scoped>\n",
              "    .dataframe tbody tr th:only-of-type {\n",
              "        vertical-align: middle;\n",
              "    }\n",
              "\n",
              "    .dataframe tbody tr th {\n",
              "        vertical-align: top;\n",
              "    }\n",
              "\n",
              "    .dataframe thead th {\n",
              "        text-align: right;\n",
              "    }\n",
              "</style>\n",
              "<table border=\"1\" class=\"dataframe\">\n",
              "  <thead>\n",
              "    <tr style=\"text-align: right;\">\n",
              "      <th></th>\n",
              "      <th>customer_id</th>\n",
              "      <th>acquisition_date</th>\n",
              "      <th>total_purchases</th>\n",
              "      <th>date</th>\n",
              "      <th>quantity</th>\n",
              "      <th>revenue</th>\n",
              "      <th>campaign</th>\n",
              "      <th>coupon_code</th>\n",
              "      <th>discount</th>\n",
              "    </tr>\n",
              "  </thead>\n",
              "  <tbody>\n",
              "    <tr>\n",
              "      <th>0</th>\n",
              "      <td>00a56493e7dad5c7a0ce38f33fb79a65</td>\n",
              "      <td>2022-01-26</td>\n",
              "      <td>3</td>\n",
              "      <td>2022-03-24</td>\n",
              "      <td>5</td>\n",
              "      <td>36.65</td>\n",
              "      <td>NaN</td>\n",
              "      <td>NaN</td>\n",
              "      <td>0.0</td>\n",
              "    </tr>\n",
              "    <tr>\n",
              "      <th>1</th>\n",
              "      <td>00a56493e7dad5c7a0ce38f33fb79a65</td>\n",
              "      <td>2022-01-26</td>\n",
              "      <td>3</td>\n",
              "      <td>2022-08-12</td>\n",
              "      <td>7</td>\n",
              "      <td>100.24</td>\n",
              "      <td>NaN</td>\n",
              "      <td>NaN</td>\n",
              "      <td>0.0</td>\n",
              "    </tr>\n",
              "    <tr>\n",
              "      <th>2</th>\n",
              "      <td>00a56493e7dad5c7a0ce38f33fb79a65</td>\n",
              "      <td>2022-01-26</td>\n",
              "      <td>3</td>\n",
              "      <td>2022-12-08</td>\n",
              "      <td>11</td>\n",
              "      <td>146.52</td>\n",
              "      <td>NaN</td>\n",
              "      <td>NaN</td>\n",
              "      <td>0.0</td>\n",
              "    </tr>\n",
              "    <tr>\n",
              "      <th>3</th>\n",
              "      <td>00a9a3d7b33d3dcc0b6898d0b342495f</td>\n",
              "      <td>2018-03-03</td>\n",
              "      <td>1</td>\n",
              "      <td>2020-04-18</td>\n",
              "      <td>10</td>\n",
              "      <td>146.60</td>\n",
              "      <td>NaN</td>\n",
              "      <td>NaN</td>\n",
              "      <td>0.0</td>\n",
              "    </tr>\n",
              "    <tr>\n",
              "      <th>4</th>\n",
              "      <td>00e246a83cfc888460c786b4664e44b1</td>\n",
              "      <td>2022-02-13</td>\n",
              "      <td>11</td>\n",
              "      <td>2022-03-07</td>\n",
              "      <td>2</td>\n",
              "      <td>17.30</td>\n",
              "      <td>NaN</td>\n",
              "      <td>NaN</td>\n",
              "      <td>0.0</td>\n",
              "    </tr>\n",
              "  </tbody>\n",
              "</table>\n",
              "</div>\n",
              "      <button class=\"colab-df-convert\" onclick=\"convertToInteractive('df-ddc9f5a8-2014-4364-9857-ac6756a7139c')\"\n",
              "              title=\"Convert this dataframe to an interactive table.\"\n",
              "              style=\"display:none;\">\n",
              "        \n",
              "  <svg xmlns=\"http://www.w3.org/2000/svg\" height=\"24px\"viewBox=\"0 0 24 24\"\n",
              "       width=\"24px\">\n",
              "    <path d=\"M0 0h24v24H0V0z\" fill=\"none\"/>\n",
              "    <path d=\"M18.56 5.44l.94 2.06.94-2.06 2.06-.94-2.06-.94-.94-2.06-.94 2.06-2.06.94zm-11 1L8.5 8.5l.94-2.06 2.06-.94-2.06-.94L8.5 2.5l-.94 2.06-2.06.94zm10 10l.94 2.06.94-2.06 2.06-.94-2.06-.94-.94-2.06-.94 2.06-2.06.94z\"/><path d=\"M17.41 7.96l-1.37-1.37c-.4-.4-.92-.59-1.43-.59-.52 0-1.04.2-1.43.59L10.3 9.45l-7.72 7.72c-.78.78-.78 2.05 0 2.83L4 21.41c.39.39.9.59 1.41.59.51 0 1.02-.2 1.41-.59l7.78-7.78 2.81-2.81c.8-.78.8-2.07 0-2.86zM5.41 20L4 18.59l7.72-7.72 1.47 1.35L5.41 20z\"/>\n",
              "  </svg>\n",
              "      </button>\n",
              "      \n",
              "  <style>\n",
              "    .colab-df-container {\n",
              "      display:flex;\n",
              "      flex-wrap:wrap;\n",
              "      gap: 12px;\n",
              "    }\n",
              "\n",
              "    .colab-df-convert {\n",
              "      background-color: #E8F0FE;\n",
              "      border: none;\n",
              "      border-radius: 50%;\n",
              "      cursor: pointer;\n",
              "      display: none;\n",
              "      fill: #1967D2;\n",
              "      height: 32px;\n",
              "      padding: 0 0 0 0;\n",
              "      width: 32px;\n",
              "    }\n",
              "\n",
              "    .colab-df-convert:hover {\n",
              "      background-color: #E2EBFA;\n",
              "      box-shadow: 0px 1px 2px rgba(60, 64, 67, 0.3), 0px 1px 3px 1px rgba(60, 64, 67, 0.15);\n",
              "      fill: #174EA6;\n",
              "    }\n",
              "\n",
              "    [theme=dark] .colab-df-convert {\n",
              "      background-color: #3B4455;\n",
              "      fill: #D2E3FC;\n",
              "    }\n",
              "\n",
              "    [theme=dark] .colab-df-convert:hover {\n",
              "      background-color: #434B5C;\n",
              "      box-shadow: 0px 1px 3px 1px rgba(0, 0, 0, 0.15);\n",
              "      filter: drop-shadow(0px 1px 2px rgba(0, 0, 0, 0.3));\n",
              "      fill: #FFFFFF;\n",
              "    }\n",
              "  </style>\n",
              "\n",
              "      <script>\n",
              "        const buttonEl =\n",
              "          document.querySelector('#df-ddc9f5a8-2014-4364-9857-ac6756a7139c button.colab-df-convert');\n",
              "        buttonEl.style.display =\n",
              "          google.colab.kernel.accessAllowed ? 'block' : 'none';\n",
              "\n",
              "        async function convertToInteractive(key) {\n",
              "          const element = document.querySelector('#df-ddc9f5a8-2014-4364-9857-ac6756a7139c');\n",
              "          const dataTable =\n",
              "            await google.colab.kernel.invokeFunction('convertToInteractive',\n",
              "                                                     [key], {});\n",
              "          if (!dataTable) return;\n",
              "\n",
              "          const docLinkHtml = 'Like what you see? Visit the ' +\n",
              "            '<a target=\"_blank\" href=https://colab.research.google.com/notebooks/data_table.ipynb>data table notebook</a>'\n",
              "            + ' to learn more about interactive tables.';\n",
              "          element.innerHTML = '';\n",
              "          dataTable['output_type'] = 'display_data';\n",
              "          await google.colab.output.renderOutput(dataTable, element);\n",
              "          const docLink = document.createElement('div');\n",
              "          docLink.innerHTML = docLinkHtml;\n",
              "          element.appendChild(docLink);\n",
              "        }\n",
              "      </script>\n",
              "    </div>\n",
              "  </div>\n",
              "  "
            ]
          },
          "metadata": {},
          "execution_count": 39
        }
      ]
    },
    {
      "cell_type": "markdown",
      "source": [
        "There is one row per customer and transaction with nine columns:\n",
        "\n",
        "- *customer_id*: unique identifier of the customer\n",
        "- *acquisition_date*: the date at which the customer had their first transaction (the same for all transactions of the same customer)\n",
        "- *date*: the date of the transaction\n",
        "- *revenue*: the total revenue of the transaction (amount paid by the customer)\n",
        "- *campaign*: name of the campaign the customer redeemed a coupon from\n",
        "- *coupon_code*: the coupon code used to\n",
        "obtain the discount\n",
        "- *discount*: the relative discount obtained with the coupon\n",
        "\n",
        "The latter three columns are NA, if the transaction did not involve a coupon."
      ],
      "metadata": {
        "id": "WxqYdK8fslwf"
      }
    },
    {
      "cell_type": "code",
      "source": [
        "transactions.describe(include = \"all\", datetime_is_numeric=True)"
      ],
      "metadata": {
        "colab": {
          "base_uri": "https://localhost:8080/",
          "height": 471
        },
        "id": "pJIYEBC2uwi4",
        "outputId": "26f48899-f238-47c2-cda1-29280a0563f9"
      },
      "execution_count": 40,
      "outputs": [
        {
          "output_type": "execute_result",
          "data": {
            "text/plain": [
              "                             customer_id acquisition_date  total_purchases  \\\n",
              "count                               2517             2517      2517.000000   \n",
              "unique                               995             1000              NaN   \n",
              "top     17544c9a892645cabdfc2a423233801b       2019-02-03              NaN   \n",
              "freq                                  18               18              NaN   \n",
              "mean                                 NaN              NaN         4.078268   \n",
              "std                                  NaN              NaN         2.931354   \n",
              "min                                  NaN              NaN         1.000000   \n",
              "25%                                  NaN              NaN         2.000000   \n",
              "50%                                  NaN              NaN         3.000000   \n",
              "75%                                  NaN              NaN         5.000000   \n",
              "max                                  NaN              NaN        18.000000   \n",
              "\n",
              "              date     quantity      revenue    campaign coupon_code  \\\n",
              "count         2517  2517.000000  2517.000000         161         161   \n",
              "unique        1055          NaN          NaN           2           2   \n",
              "top     2022-12-31          NaN          NaN  Newsletter      AXQZEN   \n",
              "freq            13          NaN          NaN         160         160   \n",
              "mean           NaN     5.615018    55.875491         NaN         NaN   \n",
              "std            NaN     2.817018    33.427433         NaN         NaN   \n",
              "min            NaN     1.000000     5.020000         NaN         NaN   \n",
              "25%            NaN     4.000000    30.120000         NaN         NaN   \n",
              "50%            NaN     6.000000    51.310000         NaN         NaN   \n",
              "75%            NaN     8.000000    76.090000         NaN         NaN   \n",
              "max            NaN    15.000000   190.500000         NaN         NaN   \n",
              "\n",
              "           discount  \n",
              "count   2517.000000  \n",
              "unique          NaN  \n",
              "top             NaN  \n",
              "freq            NaN  \n",
              "mean       0.006456  \n",
              "std        0.024881  \n",
              "min        0.000000  \n",
              "25%        0.000000  \n",
              "50%        0.000000  \n",
              "75%        0.000000  \n",
              "max        0.250000  "
            ],
            "text/html": [
              "\n",
              "  <div id=\"df-ee753141-a1c7-46ac-b488-41ebeb5d2c45\">\n",
              "    <div class=\"colab-df-container\">\n",
              "      <div>\n",
              "<style scoped>\n",
              "    .dataframe tbody tr th:only-of-type {\n",
              "        vertical-align: middle;\n",
              "    }\n",
              "\n",
              "    .dataframe tbody tr th {\n",
              "        vertical-align: top;\n",
              "    }\n",
              "\n",
              "    .dataframe thead th {\n",
              "        text-align: right;\n",
              "    }\n",
              "</style>\n",
              "<table border=\"1\" class=\"dataframe\">\n",
              "  <thead>\n",
              "    <tr style=\"text-align: right;\">\n",
              "      <th></th>\n",
              "      <th>customer_id</th>\n",
              "      <th>acquisition_date</th>\n",
              "      <th>total_purchases</th>\n",
              "      <th>date</th>\n",
              "      <th>quantity</th>\n",
              "      <th>revenue</th>\n",
              "      <th>campaign</th>\n",
              "      <th>coupon_code</th>\n",
              "      <th>discount</th>\n",
              "    </tr>\n",
              "  </thead>\n",
              "  <tbody>\n",
              "    <tr>\n",
              "      <th>count</th>\n",
              "      <td>2517</td>\n",
              "      <td>2517</td>\n",
              "      <td>2517.000000</td>\n",
              "      <td>2517</td>\n",
              "      <td>2517.000000</td>\n",
              "      <td>2517.000000</td>\n",
              "      <td>161</td>\n",
              "      <td>161</td>\n",
              "      <td>2517.000000</td>\n",
              "    </tr>\n",
              "    <tr>\n",
              "      <th>unique</th>\n",
              "      <td>995</td>\n",
              "      <td>1000</td>\n",
              "      <td>NaN</td>\n",
              "      <td>1055</td>\n",
              "      <td>NaN</td>\n",
              "      <td>NaN</td>\n",
              "      <td>2</td>\n",
              "      <td>2</td>\n",
              "      <td>NaN</td>\n",
              "    </tr>\n",
              "    <tr>\n",
              "      <th>top</th>\n",
              "      <td>17544c9a892645cabdfc2a423233801b</td>\n",
              "      <td>2019-02-03</td>\n",
              "      <td>NaN</td>\n",
              "      <td>2022-12-31</td>\n",
              "      <td>NaN</td>\n",
              "      <td>NaN</td>\n",
              "      <td>Newsletter</td>\n",
              "      <td>AXQZEN</td>\n",
              "      <td>NaN</td>\n",
              "    </tr>\n",
              "    <tr>\n",
              "      <th>freq</th>\n",
              "      <td>18</td>\n",
              "      <td>18</td>\n",
              "      <td>NaN</td>\n",
              "      <td>13</td>\n",
              "      <td>NaN</td>\n",
              "      <td>NaN</td>\n",
              "      <td>160</td>\n",
              "      <td>160</td>\n",
              "      <td>NaN</td>\n",
              "    </tr>\n",
              "    <tr>\n",
              "      <th>mean</th>\n",
              "      <td>NaN</td>\n",
              "      <td>NaN</td>\n",
              "      <td>4.078268</td>\n",
              "      <td>NaN</td>\n",
              "      <td>5.615018</td>\n",
              "      <td>55.875491</td>\n",
              "      <td>NaN</td>\n",
              "      <td>NaN</td>\n",
              "      <td>0.006456</td>\n",
              "    </tr>\n",
              "    <tr>\n",
              "      <th>std</th>\n",
              "      <td>NaN</td>\n",
              "      <td>NaN</td>\n",
              "      <td>2.931354</td>\n",
              "      <td>NaN</td>\n",
              "      <td>2.817018</td>\n",
              "      <td>33.427433</td>\n",
              "      <td>NaN</td>\n",
              "      <td>NaN</td>\n",
              "      <td>0.024881</td>\n",
              "    </tr>\n",
              "    <tr>\n",
              "      <th>min</th>\n",
              "      <td>NaN</td>\n",
              "      <td>NaN</td>\n",
              "      <td>1.000000</td>\n",
              "      <td>NaN</td>\n",
              "      <td>1.000000</td>\n",
              "      <td>5.020000</td>\n",
              "      <td>NaN</td>\n",
              "      <td>NaN</td>\n",
              "      <td>0.000000</td>\n",
              "    </tr>\n",
              "    <tr>\n",
              "      <th>25%</th>\n",
              "      <td>NaN</td>\n",
              "      <td>NaN</td>\n",
              "      <td>2.000000</td>\n",
              "      <td>NaN</td>\n",
              "      <td>4.000000</td>\n",
              "      <td>30.120000</td>\n",
              "      <td>NaN</td>\n",
              "      <td>NaN</td>\n",
              "      <td>0.000000</td>\n",
              "    </tr>\n",
              "    <tr>\n",
              "      <th>50%</th>\n",
              "      <td>NaN</td>\n",
              "      <td>NaN</td>\n",
              "      <td>3.000000</td>\n",
              "      <td>NaN</td>\n",
              "      <td>6.000000</td>\n",
              "      <td>51.310000</td>\n",
              "      <td>NaN</td>\n",
              "      <td>NaN</td>\n",
              "      <td>0.000000</td>\n",
              "    </tr>\n",
              "    <tr>\n",
              "      <th>75%</th>\n",
              "      <td>NaN</td>\n",
              "      <td>NaN</td>\n",
              "      <td>5.000000</td>\n",
              "      <td>NaN</td>\n",
              "      <td>8.000000</td>\n",
              "      <td>76.090000</td>\n",
              "      <td>NaN</td>\n",
              "      <td>NaN</td>\n",
              "      <td>0.000000</td>\n",
              "    </tr>\n",
              "    <tr>\n",
              "      <th>max</th>\n",
              "      <td>NaN</td>\n",
              "      <td>NaN</td>\n",
              "      <td>18.000000</td>\n",
              "      <td>NaN</td>\n",
              "      <td>15.000000</td>\n",
              "      <td>190.500000</td>\n",
              "      <td>NaN</td>\n",
              "      <td>NaN</td>\n",
              "      <td>0.250000</td>\n",
              "    </tr>\n",
              "  </tbody>\n",
              "</table>\n",
              "</div>\n",
              "      <button class=\"colab-df-convert\" onclick=\"convertToInteractive('df-ee753141-a1c7-46ac-b488-41ebeb5d2c45')\"\n",
              "              title=\"Convert this dataframe to an interactive table.\"\n",
              "              style=\"display:none;\">\n",
              "        \n",
              "  <svg xmlns=\"http://www.w3.org/2000/svg\" height=\"24px\"viewBox=\"0 0 24 24\"\n",
              "       width=\"24px\">\n",
              "    <path d=\"M0 0h24v24H0V0z\" fill=\"none\"/>\n",
              "    <path d=\"M18.56 5.44l.94 2.06.94-2.06 2.06-.94-2.06-.94-.94-2.06-.94 2.06-2.06.94zm-11 1L8.5 8.5l.94-2.06 2.06-.94-2.06-.94L8.5 2.5l-.94 2.06-2.06.94zm10 10l.94 2.06.94-2.06 2.06-.94-2.06-.94-.94-2.06-.94 2.06-2.06.94z\"/><path d=\"M17.41 7.96l-1.37-1.37c-.4-.4-.92-.59-1.43-.59-.52 0-1.04.2-1.43.59L10.3 9.45l-7.72 7.72c-.78.78-.78 2.05 0 2.83L4 21.41c.39.39.9.59 1.41.59.51 0 1.02-.2 1.41-.59l7.78-7.78 2.81-2.81c.8-.78.8-2.07 0-2.86zM5.41 20L4 18.59l7.72-7.72 1.47 1.35L5.41 20z\"/>\n",
              "  </svg>\n",
              "      </button>\n",
              "      \n",
              "  <style>\n",
              "    .colab-df-container {\n",
              "      display:flex;\n",
              "      flex-wrap:wrap;\n",
              "      gap: 12px;\n",
              "    }\n",
              "\n",
              "    .colab-df-convert {\n",
              "      background-color: #E8F0FE;\n",
              "      border: none;\n",
              "      border-radius: 50%;\n",
              "      cursor: pointer;\n",
              "      display: none;\n",
              "      fill: #1967D2;\n",
              "      height: 32px;\n",
              "      padding: 0 0 0 0;\n",
              "      width: 32px;\n",
              "    }\n",
              "\n",
              "    .colab-df-convert:hover {\n",
              "      background-color: #E2EBFA;\n",
              "      box-shadow: 0px 1px 2px rgba(60, 64, 67, 0.3), 0px 1px 3px 1px rgba(60, 64, 67, 0.15);\n",
              "      fill: #174EA6;\n",
              "    }\n",
              "\n",
              "    [theme=dark] .colab-df-convert {\n",
              "      background-color: #3B4455;\n",
              "      fill: #D2E3FC;\n",
              "    }\n",
              "\n",
              "    [theme=dark] .colab-df-convert:hover {\n",
              "      background-color: #434B5C;\n",
              "      box-shadow: 0px 1px 3px 1px rgba(0, 0, 0, 0.15);\n",
              "      filter: drop-shadow(0px 1px 2px rgba(0, 0, 0, 0.3));\n",
              "      fill: #FFFFFF;\n",
              "    }\n",
              "  </style>\n",
              "\n",
              "      <script>\n",
              "        const buttonEl =\n",
              "          document.querySelector('#df-ee753141-a1c7-46ac-b488-41ebeb5d2c45 button.colab-df-convert');\n",
              "        buttonEl.style.display =\n",
              "          google.colab.kernel.accessAllowed ? 'block' : 'none';\n",
              "\n",
              "        async function convertToInteractive(key) {\n",
              "          const element = document.querySelector('#df-ee753141-a1c7-46ac-b488-41ebeb5d2c45');\n",
              "          const dataTable =\n",
              "            await google.colab.kernel.invokeFunction('convertToInteractive',\n",
              "                                                     [key], {});\n",
              "          if (!dataTable) return;\n",
              "\n",
              "          const docLinkHtml = 'Like what you see? Visit the ' +\n",
              "            '<a target=\"_blank\" href=https://colab.research.google.com/notebooks/data_table.ipynb>data table notebook</a>'\n",
              "            + ' to learn more about interactive tables.';\n",
              "          element.innerHTML = '';\n",
              "          dataTable['output_type'] = 'display_data';\n",
              "          await google.colab.output.renderOutput(dataTable, element);\n",
              "          const docLink = document.createElement('div');\n",
              "          docLink.innerHTML = docLinkHtml;\n",
              "          element.appendChild(docLink);\n",
              "        }\n",
              "      </script>\n",
              "    </div>\n",
              "  </div>\n",
              "  "
            ]
          },
          "metadata": {},
          "execution_count": 40
        }
      ]
    },
    {
      "cell_type": "markdown",
      "source": [
        "Here, we can see that we habe about 1,000 customers making a total of 2,517 transactions."
      ],
      "metadata": {
        "id": "RzU-AtUWEELm"
      }
    },
    {
      "cell_type": "code",
      "source": [
        "print(f\"Start: {transactions['date'].min()}, End: {transactions['date'].max()}\")"
      ],
      "metadata": {
        "colab": {
          "base_uri": "https://localhost:8080/",
          "height": 0
        },
        "id": "oGPZiy13EXvQ",
        "outputId": "66e17186-2d6a-451f-cf9e-343825bc220d"
      },
      "execution_count": 41,
      "outputs": [
        {
          "output_type": "stream",
          "name": "stdout",
          "text": [
            "Start: 2018-02-03, End: 2022-12-31\n"
          ]
        }
      ]
    },
    {
      "cell_type": "markdown",
      "source": [
        "The time frame considered is between February 2018 and December 2022."
      ],
      "metadata": {
        "id": "6qzOgrViFBfh"
      }
    },
    {
      "cell_type": "code",
      "source": [
        "transactions.groupby(\"campaign\").agg({\"discount\": \"mean\", \"date\": [\"min\", \"max\"]})"
      ],
      "metadata": {
        "colab": {
          "base_uri": "https://localhost:8080/",
          "height": 173
        },
        "id": "XbYbrwGouXzO",
        "outputId": "af9cd86b-c197-46e6-ad90-dbadf45c5676"
      },
      "execution_count": 42,
      "outputs": [
        {
          "output_type": "execute_result",
          "data": {
            "text/plain": [
              "               discount        date            \n",
              "                   mean         min         max\n",
              "campaign                                       \n",
              "Newsletter         0.10  2018-02-03  2022-12-31\n",
              "Valentines2022     0.25  2022-02-14  2022-02-14"
            ],
            "text/html": [
              "\n",
              "  <div id=\"df-4e5ad941-785e-409d-bfd4-349e699d3bf7\">\n",
              "    <div class=\"colab-df-container\">\n",
              "      <div>\n",
              "<style scoped>\n",
              "    .dataframe tbody tr th:only-of-type {\n",
              "        vertical-align: middle;\n",
              "    }\n",
              "\n",
              "    .dataframe tbody tr th {\n",
              "        vertical-align: top;\n",
              "    }\n",
              "\n",
              "    .dataframe thead tr th {\n",
              "        text-align: left;\n",
              "    }\n",
              "\n",
              "    .dataframe thead tr:last-of-type th {\n",
              "        text-align: right;\n",
              "    }\n",
              "</style>\n",
              "<table border=\"1\" class=\"dataframe\">\n",
              "  <thead>\n",
              "    <tr>\n",
              "      <th></th>\n",
              "      <th>discount</th>\n",
              "      <th colspan=\"2\" halign=\"left\">date</th>\n",
              "    </tr>\n",
              "    <tr>\n",
              "      <th></th>\n",
              "      <th>mean</th>\n",
              "      <th>min</th>\n",
              "      <th>max</th>\n",
              "    </tr>\n",
              "    <tr>\n",
              "      <th>campaign</th>\n",
              "      <th></th>\n",
              "      <th></th>\n",
              "      <th></th>\n",
              "    </tr>\n",
              "  </thead>\n",
              "  <tbody>\n",
              "    <tr>\n",
              "      <th>Newsletter</th>\n",
              "      <td>0.10</td>\n",
              "      <td>2018-02-03</td>\n",
              "      <td>2022-12-31</td>\n",
              "    </tr>\n",
              "    <tr>\n",
              "      <th>Valentines2022</th>\n",
              "      <td>0.25</td>\n",
              "      <td>2022-02-14</td>\n",
              "      <td>2022-02-14</td>\n",
              "    </tr>\n",
              "  </tbody>\n",
              "</table>\n",
              "</div>\n",
              "      <button class=\"colab-df-convert\" onclick=\"convertToInteractive('df-4e5ad941-785e-409d-bfd4-349e699d3bf7')\"\n",
              "              title=\"Convert this dataframe to an interactive table.\"\n",
              "              style=\"display:none;\">\n",
              "        \n",
              "  <svg xmlns=\"http://www.w3.org/2000/svg\" height=\"24px\"viewBox=\"0 0 24 24\"\n",
              "       width=\"24px\">\n",
              "    <path d=\"M0 0h24v24H0V0z\" fill=\"none\"/>\n",
              "    <path d=\"M18.56 5.44l.94 2.06.94-2.06 2.06-.94-2.06-.94-.94-2.06-.94 2.06-2.06.94zm-11 1L8.5 8.5l.94-2.06 2.06-.94-2.06-.94L8.5 2.5l-.94 2.06-2.06.94zm10 10l.94 2.06.94-2.06 2.06-.94-2.06-.94-.94-2.06-.94 2.06-2.06.94z\"/><path d=\"M17.41 7.96l-1.37-1.37c-.4-.4-.92-.59-1.43-.59-.52 0-1.04.2-1.43.59L10.3 9.45l-7.72 7.72c-.78.78-.78 2.05 0 2.83L4 21.41c.39.39.9.59 1.41.59.51 0 1.02-.2 1.41-.59l7.78-7.78 2.81-2.81c.8-.78.8-2.07 0-2.86zM5.41 20L4 18.59l7.72-7.72 1.47 1.35L5.41 20z\"/>\n",
              "  </svg>\n",
              "      </button>\n",
              "      \n",
              "  <style>\n",
              "    .colab-df-container {\n",
              "      display:flex;\n",
              "      flex-wrap:wrap;\n",
              "      gap: 12px;\n",
              "    }\n",
              "\n",
              "    .colab-df-convert {\n",
              "      background-color: #E8F0FE;\n",
              "      border: none;\n",
              "      border-radius: 50%;\n",
              "      cursor: pointer;\n",
              "      display: none;\n",
              "      fill: #1967D2;\n",
              "      height: 32px;\n",
              "      padding: 0 0 0 0;\n",
              "      width: 32px;\n",
              "    }\n",
              "\n",
              "    .colab-df-convert:hover {\n",
              "      background-color: #E2EBFA;\n",
              "      box-shadow: 0px 1px 2px rgba(60, 64, 67, 0.3), 0px 1px 3px 1px rgba(60, 64, 67, 0.15);\n",
              "      fill: #174EA6;\n",
              "    }\n",
              "\n",
              "    [theme=dark] .colab-df-convert {\n",
              "      background-color: #3B4455;\n",
              "      fill: #D2E3FC;\n",
              "    }\n",
              "\n",
              "    [theme=dark] .colab-df-convert:hover {\n",
              "      background-color: #434B5C;\n",
              "      box-shadow: 0px 1px 3px 1px rgba(0, 0, 0, 0.15);\n",
              "      filter: drop-shadow(0px 1px 2px rgba(0, 0, 0, 0.3));\n",
              "      fill: #FFFFFF;\n",
              "    }\n",
              "  </style>\n",
              "\n",
              "      <script>\n",
              "        const buttonEl =\n",
              "          document.querySelector('#df-4e5ad941-785e-409d-bfd4-349e699d3bf7 button.colab-df-convert');\n",
              "        buttonEl.style.display =\n",
              "          google.colab.kernel.accessAllowed ? 'block' : 'none';\n",
              "\n",
              "        async function convertToInteractive(key) {\n",
              "          const element = document.querySelector('#df-4e5ad941-785e-409d-bfd4-349e699d3bf7');\n",
              "          const dataTable =\n",
              "            await google.colab.kernel.invokeFunction('convertToInteractive',\n",
              "                                                     [key], {});\n",
              "          if (!dataTable) return;\n",
              "\n",
              "          const docLinkHtml = 'Like what you see? Visit the ' +\n",
              "            '<a target=\"_blank\" href=https://colab.research.google.com/notebooks/data_table.ipynb>data table notebook</a>'\n",
              "            + ' to learn more about interactive tables.';\n",
              "          element.innerHTML = '';\n",
              "          dataTable['output_type'] = 'display_data';\n",
              "          await google.colab.output.renderOutput(dataTable, element);\n",
              "          const docLink = document.createElement('div');\n",
              "          docLink.innerHTML = docLinkHtml;\n",
              "          element.appendChild(docLink);\n",
              "        }\n",
              "      </script>\n",
              "    </div>\n",
              "  </div>\n",
              "  "
            ]
          },
          "metadata": {},
          "execution_count": 42
        }
      ]
    },
    {
      "cell_type": "markdown",
      "source": [
        "We can also identify two campaigns: Newsletter and Valentines22.\n",
        "\n",
        "- **Newsletter**: An ongoing campaign yielding ten percent discount for a newsöetter sign-up.\n",
        "- **Valentines22**: A one-off campaign for Valentine's Day giving a 25 percent discount."
      ],
      "metadata": {
        "id": "y6uqYhVTFKbK"
      }
    },
    {
      "cell_type": "markdown",
      "source": [
        "## Data Prep\n",
        "\n",
        "The above data is a pretty standard format to be obtained from an online store backend. In order to reproduce the following steps of data preparation, make sure you have the data in the same shape, i. e. one row per customer and transacrion / purchase incidence."
      ],
      "metadata": {
        "id": "g3WlQTPNFryk"
      }
    },
    {
      "cell_type": "markdown",
      "source": [
        "### Calculation Discount and Revenue before Discount\n",
        "\n",
        "The first thing you may habe noticed is the *revenue* column, containing the payment amount for each transaction. We want to determine the *revenue before discount* and the actual *discount* in $."
      ],
      "metadata": {
        "id": "aiRNS3BqGF--"
      }
    },
    {
      "cell_type": "code",
      "source": [
        "transactions[\"discount_amount\"] = (transactions[\"revenue\"]*(1+transactions[\"discount\"]))-transactions[\"revenue\"]"
      ],
      "metadata": {
        "id": "mLJKRkp5Goio"
      },
      "execution_count": 43,
      "outputs": []
    },
    {
      "cell_type": "code",
      "source": [
        "transactions[\"revenue_before_discount\"] = transactions[\"revenue\"] + transactions[\"discount_amount\"]"
      ],
      "metadata": {
        "id": "_Wyiq_TxK3zK"
      },
      "execution_count": 44,
      "outputs": []
    },
    {
      "cell_type": "markdown",
      "source": [
        "### Splitting between first and later trips\n",
        "\n",
        "Recall, that we want to know which effect a coupon upon acquisition has on the value of the customer. The contribution to the total value from the first transaction is, due to the discount, systematically biased (i. e., lower) if a coupon is used. Therefore, we will split the transactions into the first and later transactions.\n",
        "\n",
        "For that we first need to find the rolling number of each transaction."
      ],
      "metadata": {
        "id": "6J6-jmBQLJQz"
      }
    },
    {
      "cell_type": "code",
      "source": [
        "transactions[\"transaction_num\"] = transactions.groupby(\"customer_id\").cumcount()+1"
      ],
      "metadata": {
        "id": "9-SA9WYWL6lv"
      },
      "execution_count": 45,
      "outputs": []
    },
    {
      "cell_type": "markdown",
      "source": [
        "Lets see how many customer per total number of transactions we have:"
      ],
      "metadata": {
        "id": "7oDCCdIrMk46"
      }
    },
    {
      "cell_type": "code",
      "source": [
        "transactions.groupby(\"transaction_num\").size()"
      ],
      "metadata": {
        "colab": {
          "base_uri": "https://localhost:8080/",
          "height": 0
        },
        "id": "Ua_KeXD0MsPb",
        "outputId": "4ae81d8b-a7eb-4433-aea1-06d258e4503a"
      },
      "execution_count": 46,
      "outputs": [
        {
          "output_type": "execute_result",
          "data": {
            "text/plain": [
              "transaction_num\n",
              "1     995\n",
              "2     599\n",
              "3     357\n",
              "4     223\n",
              "5     135\n",
              "6      78\n",
              "7      50\n",
              "8      30\n",
              "9      19\n",
              "10      9\n",
              "11      6\n",
              "12      3\n",
              "13      3\n",
              "14      3\n",
              "15      3\n",
              "16      2\n",
              "17      1\n",
              "18      1\n",
              "dtype: int64"
            ]
          },
          "metadata": {},
          "execution_count": 46
        }
      ]
    },
    {
      "cell_type": "markdown",
      "source": [
        "In the second row we can see that we have 599 repeating customers with at least two transactions and only 396 customers "
      ],
      "metadata": {
        "id": "VfOqIYubM_90"
      }
    },
    {
      "cell_type": "markdown",
      "source": [
        "We will now extract the characteristicsof each of the customers' first transaction and append it to a summarized data frame of later transactions."
      ],
      "metadata": {
        "id": "n-ArqQDZOnbn"
      }
    },
    {
      "cell_type": "code",
      "source": [
        "first_transactions = transactions[transactions[\"transaction_num\"] == 1][[\"customer_id\", \"acquisition_date\", \"quantity\", \"campaign\"]].set_index(\"customer_id\")"
      ],
      "metadata": {
        "id": "I8EFW9rAO3VJ"
      },
      "execution_count": 47,
      "outputs": []
    },
    {
      "cell_type": "markdown",
      "source": [
        "Let's do some renaming to make the information easily interpretable and also replace the NAs in campaigns with \"None\", so they don't get accidentally dropped:"
      ],
      "metadata": {
        "id": "nVXMnP0RVMAN"
      }
    },
    {
      "cell_type": "code",
      "source": [
        "first_transactions.columns = [\"acquisition_date\", \"quantity_first\", \"campaign_first\"]"
      ],
      "metadata": {
        "id": "hsyefhTvT-No"
      },
      "execution_count": 48,
      "outputs": []
    },
    {
      "cell_type": "code",
      "source": [
        "first_transactions[\"campaign_first\"] = first_transactions[\"campaign_first\"].fillna(\"None\")"
      ],
      "metadata": {
        "id": "ZmuVQMTNVaDE"
      },
      "execution_count": 49,
      "outputs": []
    },
    {
      "cell_type": "code",
      "source": [
        "later_transactions = transactions[transactions[\"transaction_num\"] > 1].groupby(\"customer_id\").agg({\"customer_id\": \"count\", \"revenue\": \"sum\", \"quantity\": \"mean\", \"date\": \"max\", \"discount\": \"mean\"})"
      ],
      "metadata": {
        "id": "v64zZaDPQJR2"
      },
      "execution_count": 50,
      "outputs": []
    },
    {
      "cell_type": "markdown",
      "source": [
        "We are aggregating the later transactions for each customer and get the total number of later transactions, total revenue (i. e., value), the mean quantity purchased, the date of latest purchase and the mean discount from later transactions. We elaborate on the need for each of these variables later. First, lets do some\n",
        "renaming for better interpretability:"
      ],
      "metadata": {
        "id": "BC4EdL6WQ5ZD"
      }
    },
    {
      "cell_type": "code",
      "source": [
        "later_transactions.columns = [\"transactions_num_later\", \"value\", \"quantity_later\", \"max_date\", \"discounts_later\"]"
      ],
      "metadata": {
        "id": "EwYdhl5yR9HK"
      },
      "execution_count": 51,
      "outputs": []
    },
    {
      "cell_type": "markdown",
      "source": [
        "Now, let's merge the aggregated later transactions with the characteristics of the first transactions."
      ],
      "metadata": {
        "id": "LE7KNg6FUZha"
      }
    },
    {
      "cell_type": "code",
      "source": [
        "later_transactions = later_transactions.merge(first_transactions, left_index = True, right_index = True, how = \"left\")"
      ],
      "metadata": {
        "id": "9Bvka2xdTNLy"
      },
      "execution_count": 52,
      "outputs": []
    },
    {
      "cell_type": "markdown",
      "source": [
        "We now have a data frame with one row per customer and the information of later and first transactions as columns. Let's take a brief look:"
      ],
      "metadata": {
        "id": "nRYrLqsvUh27"
      }
    },
    {
      "cell_type": "code",
      "source": [
        "later_transactions.groupby(\"campaign_first\")[[\"value\", \"transactions_num_later\"]].mean()"
      ],
      "metadata": {
        "colab": {
          "base_uri": "https://localhost:8080/",
          "height": 142
        },
        "id": "NcYoB64nUw24",
        "outputId": "ff86be3f-a678-4ae6-c1cb-46554f5d99dc"
      },
      "execution_count": 53,
      "outputs": [
        {
          "output_type": "execute_result",
          "data": {
            "text/plain": [
              "                     value  transactions_num_later\n",
              "campaign_first                                    \n",
              "Newsletter       78.673226                1.935484\n",
              "None            145.393979                2.573944"
            ],
            "text/html": [
              "\n",
              "  <div id=\"df-7c3be171-4827-4359-8c14-f5a28333eac1\">\n",
              "    <div class=\"colab-df-container\">\n",
              "      <div>\n",
              "<style scoped>\n",
              "    .dataframe tbody tr th:only-of-type {\n",
              "        vertical-align: middle;\n",
              "    }\n",
              "\n",
              "    .dataframe tbody tr th {\n",
              "        vertical-align: top;\n",
              "    }\n",
              "\n",
              "    .dataframe thead th {\n",
              "        text-align: right;\n",
              "    }\n",
              "</style>\n",
              "<table border=\"1\" class=\"dataframe\">\n",
              "  <thead>\n",
              "    <tr style=\"text-align: right;\">\n",
              "      <th></th>\n",
              "      <th>value</th>\n",
              "      <th>transactions_num_later</th>\n",
              "    </tr>\n",
              "    <tr>\n",
              "      <th>campaign_first</th>\n",
              "      <th></th>\n",
              "      <th></th>\n",
              "    </tr>\n",
              "  </thead>\n",
              "  <tbody>\n",
              "    <tr>\n",
              "      <th>Newsletter</th>\n",
              "      <td>78.673226</td>\n",
              "      <td>1.935484</td>\n",
              "    </tr>\n",
              "    <tr>\n",
              "      <th>None</th>\n",
              "      <td>145.393979</td>\n",
              "      <td>2.573944</td>\n",
              "    </tr>\n",
              "  </tbody>\n",
              "</table>\n",
              "</div>\n",
              "      <button class=\"colab-df-convert\" onclick=\"convertToInteractive('df-7c3be171-4827-4359-8c14-f5a28333eac1')\"\n",
              "              title=\"Convert this dataframe to an interactive table.\"\n",
              "              style=\"display:none;\">\n",
              "        \n",
              "  <svg xmlns=\"http://www.w3.org/2000/svg\" height=\"24px\"viewBox=\"0 0 24 24\"\n",
              "       width=\"24px\">\n",
              "    <path d=\"M0 0h24v24H0V0z\" fill=\"none\"/>\n",
              "    <path d=\"M18.56 5.44l.94 2.06.94-2.06 2.06-.94-2.06-.94-.94-2.06-.94 2.06-2.06.94zm-11 1L8.5 8.5l.94-2.06 2.06-.94-2.06-.94L8.5 2.5l-.94 2.06-2.06.94zm10 10l.94 2.06.94-2.06 2.06-.94-2.06-.94-.94-2.06-.94 2.06-2.06.94z\"/><path d=\"M17.41 7.96l-1.37-1.37c-.4-.4-.92-.59-1.43-.59-.52 0-1.04.2-1.43.59L10.3 9.45l-7.72 7.72c-.78.78-.78 2.05 0 2.83L4 21.41c.39.39.9.59 1.41.59.51 0 1.02-.2 1.41-.59l7.78-7.78 2.81-2.81c.8-.78.8-2.07 0-2.86zM5.41 20L4 18.59l7.72-7.72 1.47 1.35L5.41 20z\"/>\n",
              "  </svg>\n",
              "      </button>\n",
              "      \n",
              "  <style>\n",
              "    .colab-df-container {\n",
              "      display:flex;\n",
              "      flex-wrap:wrap;\n",
              "      gap: 12px;\n",
              "    }\n",
              "\n",
              "    .colab-df-convert {\n",
              "      background-color: #E8F0FE;\n",
              "      border: none;\n",
              "      border-radius: 50%;\n",
              "      cursor: pointer;\n",
              "      display: none;\n",
              "      fill: #1967D2;\n",
              "      height: 32px;\n",
              "      padding: 0 0 0 0;\n",
              "      width: 32px;\n",
              "    }\n",
              "\n",
              "    .colab-df-convert:hover {\n",
              "      background-color: #E2EBFA;\n",
              "      box-shadow: 0px 1px 2px rgba(60, 64, 67, 0.3), 0px 1px 3px 1px rgba(60, 64, 67, 0.15);\n",
              "      fill: #174EA6;\n",
              "    }\n",
              "\n",
              "    [theme=dark] .colab-df-convert {\n",
              "      background-color: #3B4455;\n",
              "      fill: #D2E3FC;\n",
              "    }\n",
              "\n",
              "    [theme=dark] .colab-df-convert:hover {\n",
              "      background-color: #434B5C;\n",
              "      box-shadow: 0px 1px 3px 1px rgba(0, 0, 0, 0.15);\n",
              "      filter: drop-shadow(0px 1px 2px rgba(0, 0, 0, 0.3));\n",
              "      fill: #FFFFFF;\n",
              "    }\n",
              "  </style>\n",
              "\n",
              "      <script>\n",
              "        const buttonEl =\n",
              "          document.querySelector('#df-7c3be171-4827-4359-8c14-f5a28333eac1 button.colab-df-convert');\n",
              "        buttonEl.style.display =\n",
              "          google.colab.kernel.accessAllowed ? 'block' : 'none';\n",
              "\n",
              "        async function convertToInteractive(key) {\n",
              "          const element = document.querySelector('#df-7c3be171-4827-4359-8c14-f5a28333eac1');\n",
              "          const dataTable =\n",
              "            await google.colab.kernel.invokeFunction('convertToInteractive',\n",
              "                                                     [key], {});\n",
              "          if (!dataTable) return;\n",
              "\n",
              "          const docLinkHtml = 'Like what you see? Visit the ' +\n",
              "            '<a target=\"_blank\" href=https://colab.research.google.com/notebooks/data_table.ipynb>data table notebook</a>'\n",
              "            + ' to learn more about interactive tables.';\n",
              "          element.innerHTML = '';\n",
              "          dataTable['output_type'] = 'display_data';\n",
              "          await google.colab.output.renderOutput(dataTable, element);\n",
              "          const docLink = document.createElement('div');\n",
              "          docLink.innerHTML = docLinkHtml;\n",
              "          element.appendChild(docLink);\n",
              "        }\n",
              "      </script>\n",
              "    </div>\n",
              "  </div>\n",
              "  "
            ]
          },
          "metadata": {},
          "execution_count": 53
        }
      ]
    },
    {
      "cell_type": "markdown",
      "source": [
        "At first glance it looks like, customers acquired with a *Newletter* coupon indeed create less value in later transactions and the column *transactions_num_later* indicates that they do so due to less frequent transactions.\n",
        "\n",
        "**However**: There might be a bias here. It might happen that *organic* customers have longer tenure or retention (i. e. joined earlier) than customers acquired with the *Newsletter* coupon. We thus have to correct for potential differences in the length of the customer lifetime duration. "
      ],
      "metadata": {
        "id": "IhVDCNheZbsL"
      }
    },
    {
      "cell_type": "markdown",
      "source": [
        "### Correcting for Different Lifetime Lengths\n",
        "\n",
        "There are different options to do so, the simplest being to calculate the duration between the acquisition date and the date of the last transaction and divide the value by it. However, this opens up the possibility of another bias: customers who joined very late did not have the ability to accumulate a long lifetime, still their short lifetime would get weighted more strongly when dividing by a smaller number.\n",
        "\n",
        "The second option would be to remove, e. g. the most recent year from the data and thua remove the bias created by more recent customers. This however would also reduce the number of customers to analyze.\n",
        "\n",
        "We therefore chose a third option: divide the value (and # of transactions) by the remaining time left in the data to observe the customer. \n",
        "\n",
        "Example: a customer males their most recent transaction in the last week we observe. Wenthen divide their total value by 1 (week left), because we now, they are still an active customer. Correspondingly, a customer who has not made a transaction for 50 weeks has a much lower corrected value, as their chance of still being active is much lower."
      ],
      "metadata": {
        "id": "s69rxKG8d0kf"
      }
    },
    {
      "cell_type": "code",
      "source": [
        "later_transactions[\"remaining_weeks\"] = (pd.to_datetime(later_transactions[\"max_date\"].max()) - pd.to_datetime(later_transactions[\"max_date\"])).dt.days//7 +1"
      ],
      "metadata": {
        "id": "Rw7ti6Kw0GXa"
      },
      "execution_count": 54,
      "outputs": []
    },
    {
      "cell_type": "code",
      "source": [
        "later_transactions[\"value_corrected\"] = later_transactions['value']/later_transactions[\"remaining_weeks\"]\n",
        "later_transactions[\"transactions_num_later_corrected\"] = later_transactions[\"transactions_num_later\"]/later_transactions[\"remaining_weeks\"]"
      ],
      "metadata": {
        "id": "R0YKFP2hfOBY"
      },
      "execution_count": 59,
      "outputs": []
    },
    {
      "cell_type": "markdown",
      "source": [
        "Above we calculated the remaining weeks in the data per customer (the minimum being one week) and divided the variables of interest by that value. We indicate the new values by the suffix *_corrected*."
      ],
      "metadata": {
        "id": "WbV5AkSriTrh"
      }
    },
    {
      "cell_type": "code",
      "source": [
        "later_transactions.groupby(\"campaign_first\")[[\"value_corrected\", \"transactions_num_later_corrected\"]].mean()"
      ],
      "metadata": {
        "colab": {
          "base_uri": "https://localhost:8080/",
          "height": 142
        },
        "id": "0zPmQ_3rf69O",
        "outputId": "94b1339f-b004-48d1-e561-78e526273d9b"
      },
      "execution_count": 60,
      "outputs": [
        {
          "output_type": "execute_result",
          "data": {
            "text/plain": [
              "                value_corrected  transactions_num_later_corrected\n",
              "campaign_first                                                   \n",
              "Newsletter            16.719509                          0.345715\n",
              "None                  24.921393                          0.447436"
            ],
            "text/html": [
              "\n",
              "  <div id=\"df-fc01ffba-b1db-4644-85db-a7c237a9307f\">\n",
              "    <div class=\"colab-df-container\">\n",
              "      <div>\n",
              "<style scoped>\n",
              "    .dataframe tbody tr th:only-of-type {\n",
              "        vertical-align: middle;\n",
              "    }\n",
              "\n",
              "    .dataframe tbody tr th {\n",
              "        vertical-align: top;\n",
              "    }\n",
              "\n",
              "    .dataframe thead th {\n",
              "        text-align: right;\n",
              "    }\n",
              "</style>\n",
              "<table border=\"1\" class=\"dataframe\">\n",
              "  <thead>\n",
              "    <tr style=\"text-align: right;\">\n",
              "      <th></th>\n",
              "      <th>value_corrected</th>\n",
              "      <th>transactions_num_later_corrected</th>\n",
              "    </tr>\n",
              "    <tr>\n",
              "      <th>campaign_first</th>\n",
              "      <th></th>\n",
              "      <th></th>\n",
              "    </tr>\n",
              "  </thead>\n",
              "  <tbody>\n",
              "    <tr>\n",
              "      <th>Newsletter</th>\n",
              "      <td>16.719509</td>\n",
              "      <td>0.345715</td>\n",
              "    </tr>\n",
              "    <tr>\n",
              "      <th>None</th>\n",
              "      <td>24.921393</td>\n",
              "      <td>0.447436</td>\n",
              "    </tr>\n",
              "  </tbody>\n",
              "</table>\n",
              "</div>\n",
              "      <button class=\"colab-df-convert\" onclick=\"convertToInteractive('df-fc01ffba-b1db-4644-85db-a7c237a9307f')\"\n",
              "              title=\"Convert this dataframe to an interactive table.\"\n",
              "              style=\"display:none;\">\n",
              "        \n",
              "  <svg xmlns=\"http://www.w3.org/2000/svg\" height=\"24px\"viewBox=\"0 0 24 24\"\n",
              "       width=\"24px\">\n",
              "    <path d=\"M0 0h24v24H0V0z\" fill=\"none\"/>\n",
              "    <path d=\"M18.56 5.44l.94 2.06.94-2.06 2.06-.94-2.06-.94-.94-2.06-.94 2.06-2.06.94zm-11 1L8.5 8.5l.94-2.06 2.06-.94-2.06-.94L8.5 2.5l-.94 2.06-2.06.94zm10 10l.94 2.06.94-2.06 2.06-.94-2.06-.94-.94-2.06-.94 2.06-2.06.94z\"/><path d=\"M17.41 7.96l-1.37-1.37c-.4-.4-.92-.59-1.43-.59-.52 0-1.04.2-1.43.59L10.3 9.45l-7.72 7.72c-.78.78-.78 2.05 0 2.83L4 21.41c.39.39.9.59 1.41.59.51 0 1.02-.2 1.41-.59l7.78-7.78 2.81-2.81c.8-.78.8-2.07 0-2.86zM5.41 20L4 18.59l7.72-7.72 1.47 1.35L5.41 20z\"/>\n",
              "  </svg>\n",
              "      </button>\n",
              "      \n",
              "  <style>\n",
              "    .colab-df-container {\n",
              "      display:flex;\n",
              "      flex-wrap:wrap;\n",
              "      gap: 12px;\n",
              "    }\n",
              "\n",
              "    .colab-df-convert {\n",
              "      background-color: #E8F0FE;\n",
              "      border: none;\n",
              "      border-radius: 50%;\n",
              "      cursor: pointer;\n",
              "      display: none;\n",
              "      fill: #1967D2;\n",
              "      height: 32px;\n",
              "      padding: 0 0 0 0;\n",
              "      width: 32px;\n",
              "    }\n",
              "\n",
              "    .colab-df-convert:hover {\n",
              "      background-color: #E2EBFA;\n",
              "      box-shadow: 0px 1px 2px rgba(60, 64, 67, 0.3), 0px 1px 3px 1px rgba(60, 64, 67, 0.15);\n",
              "      fill: #174EA6;\n",
              "    }\n",
              "\n",
              "    [theme=dark] .colab-df-convert {\n",
              "      background-color: #3B4455;\n",
              "      fill: #D2E3FC;\n",
              "    }\n",
              "\n",
              "    [theme=dark] .colab-df-convert:hover {\n",
              "      background-color: #434B5C;\n",
              "      box-shadow: 0px 1px 3px 1px rgba(0, 0, 0, 0.15);\n",
              "      filter: drop-shadow(0px 1px 2px rgba(0, 0, 0, 0.3));\n",
              "      fill: #FFFFFF;\n",
              "    }\n",
              "  </style>\n",
              "\n",
              "      <script>\n",
              "        const buttonEl =\n",
              "          document.querySelector('#df-fc01ffba-b1db-4644-85db-a7c237a9307f button.colab-df-convert');\n",
              "        buttonEl.style.display =\n",
              "          google.colab.kernel.accessAllowed ? 'block' : 'none';\n",
              "\n",
              "        async function convertToInteractive(key) {\n",
              "          const element = document.querySelector('#df-fc01ffba-b1db-4644-85db-a7c237a9307f');\n",
              "          const dataTable =\n",
              "            await google.colab.kernel.invokeFunction('convertToInteractive',\n",
              "                                                     [key], {});\n",
              "          if (!dataTable) return;\n",
              "\n",
              "          const docLinkHtml = 'Like what you see? Visit the ' +\n",
              "            '<a target=\"_blank\" href=https://colab.research.google.com/notebooks/data_table.ipynb>data table notebook</a>'\n",
              "            + ' to learn more about interactive tables.';\n",
              "          element.innerHTML = '';\n",
              "          dataTable['output_type'] = 'display_data';\n",
              "          await google.colab.output.renderOutput(dataTable, element);\n",
              "          const docLink = document.createElement('div');\n",
              "          docLink.innerHTML = docLinkHtml;\n",
              "          element.appendChild(docLink);\n",
              "        }\n",
              "      </script>\n",
              "    </div>\n",
              "  </div>\n",
              "  "
            ]
          },
          "metadata": {},
          "execution_count": 60
        }
      ]
    },
    {
      "cell_type": "markdown",
      "source": [
        "Displaying the mean corrected value and mean corrected later transactions, we see that also after correcting for the bias, "
      ],
      "metadata": {
        "id": "ddpPJe_tlgtO"
      }
    },
    {
      "cell_type": "markdown",
      "source": [
        "# Neuer Abschnitt"
      ],
      "metadata": {
        "id": "ifG6IQDqJp4C"
      }
    }
  ]
}